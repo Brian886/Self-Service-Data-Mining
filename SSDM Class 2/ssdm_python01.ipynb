{
 "cells": [
  {
   "cell_type": "code",
   "execution_count": 16,
   "metadata": {},
   "outputs": [],
   "source": [
    "import pandas as pd \n",
    "import sqlite3 #connect to database\n",
    "import matplotlib.pyplot as plt"
   ]
  },
  {
   "cell_type": "code",
   "execution_count": 17,
   "metadata": {},
   "outputs": [],
   "source": [
    "conn = sqlite3.connect('02_03_SSDM_Assignment_2_Zenara_subscriptions.db')\n",
    "c = conn.cursor()"
   ]
  },
  {
   "cell_type": "code",
   "execution_count": 18,
   "metadata": {},
   "outputs": [
    {
     "data": {
      "text/plain": [
       "[('StatusCodes',), ('ChurnCodes',), ('Clients',), ('Subscriptions',)]"
      ]
     },
     "execution_count": 18,
     "metadata": {},
     "output_type": "execute_result"
    }
   ],
   "source": [
    "c.execute(\"SELECT name from sqlite_master WHERE type = 'table';\")\n",
    "c.fetchall()"
   ]
  },
  {
   "cell_type": "code",
   "execution_count": 19,
   "metadata": {},
   "outputs": [
    {
     "name": "stdout",
     "output_type": "stream",
     "text": [
      "(40533, 13)\n"
     ]
    },
    {
     "data": {
      "text/html": [
       "<div>\n",
       "<style scoped>\n",
       "    .dataframe tbody tr th:only-of-type {\n",
       "        vertical-align: middle;\n",
       "    }\n",
       "\n",
       "    .dataframe tbody tr th {\n",
       "        vertical-align: top;\n",
       "    }\n",
       "\n",
       "    .dataframe thead th {\n",
       "        text-align: right;\n",
       "    }\n",
       "</style>\n",
       "<table border=\"1\" class=\"dataframe\">\n",
       "  <thead>\n",
       "    <tr style=\"text-align: right;\">\n",
       "      <th></th>\n",
       "      <th>SubscriptionID</th>\n",
       "      <th>STATUS_PORTFOLIO</th>\n",
       "      <th>STATUS_REASON</th>\n",
       "      <th>TECHNICAL_COMMENCEMENT_DATE</th>\n",
       "      <th>VERSION_START_DATE</th>\n",
       "      <th>PRODUCT</th>\n",
       "      <th>PRODUCT_TYPE</th>\n",
       "      <th>AGENCY</th>\n",
       "      <th>REGION</th>\n",
       "      <th>CITY</th>\n",
       "      <th>DEVICE</th>\n",
       "      <th>MONTHLY_FEE</th>\n",
       "      <th>ClientID</th>\n",
       "    </tr>\n",
       "  </thead>\n",
       "  <tbody>\n",
       "    <tr>\n",
       "      <th>0</th>\n",
       "      <td>300006922</td>\n",
       "      <td>-&gt;</td>\n",
       "      <td>w</td>\n",
       "      <td>2022-04-01 00:00:00</td>\n",
       "      <td>2022-03-11 00:00:00</td>\n",
       "      <td>13287</td>\n",
       "      <td>Old</td>\n",
       "      <td>NORTH DAKOTA</td>\n",
       "      <td>ND</td>\n",
       "      <td>None</td>\n",
       "      <td>Mobile Device</td>\n",
       "      <td>4.180840</td>\n",
       "      <td>4003084</td>\n",
       "    </tr>\n",
       "    <tr>\n",
       "      <th>1</th>\n",
       "      <td>300017127</td>\n",
       "      <td>canclltn</td>\n",
       "      <td>unpd_prm</td>\n",
       "      <td>2020-09-01 00:00:00</td>\n",
       "      <td>2022-08-04 00:00:00</td>\n",
       "      <td>13226</td>\n",
       "      <td>Old</td>\n",
       "      <td>JADRAN+</td>\n",
       "      <td>TX</td>\n",
       "      <td>None</td>\n",
       "      <td>Mob.dev.</td>\n",
       "      <td>0.015605</td>\n",
       "      <td>599399</td>\n",
       "    </tr>\n",
       "    <tr>\n",
       "      <th>2</th>\n",
       "      <td>300017135</td>\n",
       "      <td>canclltn</td>\n",
       "      <td>ovrd</td>\n",
       "      <td>2020-09-01 00:00:00</td>\n",
       "      <td>2022-08-04 00:00:00</td>\n",
       "      <td>13226</td>\n",
       "      <td>Old</td>\n",
       "      <td>JADRAN+</td>\n",
       "      <td>TX</td>\n",
       "      <td>None</td>\n",
       "      <td>Mob.dev.</td>\n",
       "      <td>0.016399</td>\n",
       "      <td>3402393</td>\n",
       "    </tr>\n",
       "    <tr>\n",
       "      <th>3</th>\n",
       "      <td>300024841</td>\n",
       "      <td>-&gt;</td>\n",
       "      <td>w</td>\n",
       "      <td>2020-02-01 00:00:00</td>\n",
       "      <td>2024-02-01 00:00:00</td>\n",
       "      <td>13226</td>\n",
       "      <td>Old</td>\n",
       "      <td>ALASKA</td>\n",
       "      <td>AK</td>\n",
       "      <td>None</td>\n",
       "      <td>mobile</td>\n",
       "      <td>2.119427</td>\n",
       "      <td>6227806</td>\n",
       "    </tr>\n",
       "    <tr>\n",
       "      <th>4</th>\n",
       "      <td>300030872</td>\n",
       "      <td>-&gt;</td>\n",
       "      <td>w</td>\n",
       "      <td>2020-07-01 00:00:00</td>\n",
       "      <td>2023-07-01 00:00:00</td>\n",
       "      <td>13226</td>\n",
       "      <td>Old</td>\n",
       "      <td>MISSOURI</td>\n",
       "      <td>MO</td>\n",
       "      <td>None</td>\n",
       "      <td>Mob.dev.</td>\n",
       "      <td>6.836562</td>\n",
       "      <td>796637</td>\n",
       "    </tr>\n",
       "  </tbody>\n",
       "</table>\n",
       "</div>"
      ],
      "text/plain": [
       "   SubscriptionID STATUS_PORTFOLIO STATUS_REASON TECHNICAL_COMMENCEMENT_DATE  \\\n",
       "0       300006922               ->             w         2022-04-01 00:00:00   \n",
       "1       300017127         canclltn      unpd_prm         2020-09-01 00:00:00   \n",
       "2       300017135         canclltn          ovrd         2020-09-01 00:00:00   \n",
       "3       300024841               ->             w         2020-02-01 00:00:00   \n",
       "4       300030872               ->             w         2020-07-01 00:00:00   \n",
       "\n",
       "    VERSION_START_DATE  PRODUCT PRODUCT_TYPE        AGENCY REGION  CITY  \\\n",
       "0  2022-03-11 00:00:00    13287          Old  NORTH DAKOTA     ND  None   \n",
       "1  2022-08-04 00:00:00    13226          Old       JADRAN+     TX  None   \n",
       "2  2022-08-04 00:00:00    13226          Old       JADRAN+     TX  None   \n",
       "3  2024-02-01 00:00:00    13226          Old        ALASKA     AK  None   \n",
       "4  2023-07-01 00:00:00    13226          Old      MISSOURI     MO  None   \n",
       "\n",
       "          DEVICE  MONTHLY_FEE  ClientID  \n",
       "0  Mobile Device     4.180840   4003084  \n",
       "1       Mob.dev.     0.015605    599399  \n",
       "2       Mob.dev.     0.016399   3402393  \n",
       "3         mobile     2.119427   6227806  \n",
       "4       Mob.dev.     6.836562    796637  "
      ]
     },
     "execution_count": 19,
     "metadata": {},
     "output_type": "execute_result"
    }
   ],
   "source": [
    "df_sub = pd.read_sql_query(\"SELECT * FROM Subscriptions\", conn)\n",
    "print(df_sub.shape)\n",
    "df_sub.head(5)"
   ]
  },
  {
   "cell_type": "code",
   "execution_count": 20,
   "metadata": {},
   "outputs": [
    {
     "name": "stdout",
     "output_type": "stream",
     "text": [
      "(44381, 3)\n"
     ]
    },
    {
     "data": {
      "text/html": [
       "<div>\n",
       "<style scoped>\n",
       "    .dataframe tbody tr th:only-of-type {\n",
       "        vertical-align: middle;\n",
       "    }\n",
       "\n",
       "    .dataframe tbody tr th {\n",
       "        vertical-align: top;\n",
       "    }\n",
       "\n",
       "    .dataframe thead th {\n",
       "        text-align: right;\n",
       "    }\n",
       "</style>\n",
       "<table border=\"1\" class=\"dataframe\">\n",
       "  <thead>\n",
       "    <tr style=\"text-align: right;\">\n",
       "      <th></th>\n",
       "      <th>ClientID</th>\n",
       "      <th>BIRTH_DATE</th>\n",
       "      <th>Sex</th>\n",
       "    </tr>\n",
       "  </thead>\n",
       "  <tbody>\n",
       "    <tr>\n",
       "      <th>0</th>\n",
       "      <td>420</td>\n",
       "      <td>10- VIII.- 36</td>\n",
       "      <td>Male</td>\n",
       "    </tr>\n",
       "    <tr>\n",
       "      <th>1</th>\n",
       "      <td>927</td>\n",
       "      <td>2- I.- 53</td>\n",
       "      <td>Female</td>\n",
       "    </tr>\n",
       "    <tr>\n",
       "      <th>2</th>\n",
       "      <td>1399</td>\n",
       "      <td>1993-02-16 00:00:00</td>\n",
       "      <td>Male</td>\n",
       "    </tr>\n",
       "    <tr>\n",
       "      <th>3</th>\n",
       "      <td>1505</td>\n",
       "      <td>9- XI.- 61</td>\n",
       "      <td>Male</td>\n",
       "    </tr>\n",
       "    <tr>\n",
       "      <th>4</th>\n",
       "      <td>1730</td>\n",
       "      <td>1980-10-22 00:00:00</td>\n",
       "      <td>Male</td>\n",
       "    </tr>\n",
       "  </tbody>\n",
       "</table>\n",
       "</div>"
      ],
      "text/plain": [
       "   ClientID           BIRTH_DATE     Sex\n",
       "0       420        10- VIII.- 36    Male\n",
       "1       927            2- I.- 53  Female\n",
       "2      1399  1993-02-16 00:00:00    Male\n",
       "3      1505           9- XI.- 61    Male\n",
       "4      1730  1980-10-22 00:00:00    Male"
      ]
     },
     "execution_count": 20,
     "metadata": {},
     "output_type": "execute_result"
    }
   ],
   "source": [
    "df_client = pd.read_sql_query(\"SELECT * FROM Clients\", conn)\n",
    "print(df_client.shape)\n",
    "df_client.head(5)"
   ]
  },
  {
   "cell_type": "code",
   "execution_count": 21,
   "metadata": {},
   "outputs": [
    {
     "name": "stdout",
     "output_type": "stream",
     "text": [
      "(11, 2)\n"
     ]
    },
    {
     "data": {
      "text/html": [
       "<div>\n",
       "<style scoped>\n",
       "    .dataframe tbody tr th:only-of-type {\n",
       "        vertical-align: middle;\n",
       "    }\n",
       "\n",
       "    .dataframe tbody tr th {\n",
       "        vertical-align: top;\n",
       "    }\n",
       "\n",
       "    .dataframe thead th {\n",
       "        text-align: right;\n",
       "    }\n",
       "</style>\n",
       "<table border=\"1\" class=\"dataframe\">\n",
       "  <thead>\n",
       "    <tr style=\"text-align: right;\">\n",
       "      <th></th>\n",
       "      <th>STATUS_REASON</th>\n",
       "      <th>Description</th>\n",
       "    </tr>\n",
       "  </thead>\n",
       "  <tbody>\n",
       "    <tr>\n",
       "      <th>0</th>\n",
       "      <td>w</td>\n",
       "      <td>Cancelled</td>\n",
       "    </tr>\n",
       "    <tr>\n",
       "      <th>1</th>\n",
       "      <td>ovrd</td>\n",
       "      <td>Overdue fee</td>\n",
       "    </tr>\n",
       "    <tr>\n",
       "      <th>2</th>\n",
       "      <td>srrnd_cnclltn_o</td>\n",
       "      <td>Cancelled</td>\n",
       "    </tr>\n",
       "    <tr>\n",
       "      <th>3</th>\n",
       "      <td>deseased</td>\n",
       "      <td>Deceased Client</td>\n",
       "    </tr>\n",
       "    <tr>\n",
       "      <th>4</th>\n",
       "      <td>strnd_cnclltn_o</td>\n",
       "      <td>Cancelled</td>\n",
       "    </tr>\n",
       "  </tbody>\n",
       "</table>\n",
       "</div>"
      ],
      "text/plain": [
       "     STATUS_REASON      Description\n",
       "0                w        Cancelled\n",
       "1             ovrd      Overdue fee\n",
       "2  srrnd_cnclltn_o        Cancelled\n",
       "3         deseased  Deceased Client\n",
       "4  strnd_cnclltn_o        Cancelled"
      ]
     },
     "execution_count": 21,
     "metadata": {},
     "output_type": "execute_result"
    }
   ],
   "source": [
    "df_cc = pd.read_sql_query(\"SELECT * FROM ChurnCodes\", conn)\n",
    "print(df_cc.shape)\n",
    "df_cc.head(5)"
   ]
  },
  {
   "cell_type": "code",
   "execution_count": 22,
   "metadata": {},
   "outputs": [
    {
     "name": "stdout",
     "output_type": "stream",
     "text": [
      "(4, 2)\n"
     ]
    },
    {
     "data": {
      "text/html": [
       "<div>\n",
       "<style scoped>\n",
       "    .dataframe tbody tr th:only-of-type {\n",
       "        vertical-align: middle;\n",
       "    }\n",
       "\n",
       "    .dataframe tbody tr th {\n",
       "        vertical-align: top;\n",
       "    }\n",
       "\n",
       "    .dataframe thead th {\n",
       "        text-align: right;\n",
       "    }\n",
       "</style>\n",
       "<table border=\"1\" class=\"dataframe\">\n",
       "  <thead>\n",
       "    <tr style=\"text-align: right;\">\n",
       "      <th></th>\n",
       "      <th>STATUS_PORTFOLIO</th>\n",
       "      <th>Description</th>\n",
       "    </tr>\n",
       "  </thead>\n",
       "  <tbody>\n",
       "    <tr>\n",
       "      <th>0</th>\n",
       "      <td>-&gt;</td>\n",
       "      <td>Subscriber</td>\n",
       "    </tr>\n",
       "    <tr>\n",
       "      <th>1</th>\n",
       "      <td>srrndr</td>\n",
       "      <td>Cancelled</td>\n",
       "    </tr>\n",
       "    <tr>\n",
       "      <th>2</th>\n",
       "      <td>canclltn</td>\n",
       "      <td>Cancelled</td>\n",
       "    </tr>\n",
       "    <tr>\n",
       "      <th>3</th>\n",
       "      <td>susP</td>\n",
       "      <td>Suspended</td>\n",
       "    </tr>\n",
       "  </tbody>\n",
       "</table>\n",
       "</div>"
      ],
      "text/plain": [
       "  STATUS_PORTFOLIO Description\n",
       "0               ->  Subscriber\n",
       "1           srrndr   Cancelled\n",
       "2         canclltn   Cancelled\n",
       "3             susP   Suspended"
      ]
     },
     "execution_count": 22,
     "metadata": {},
     "output_type": "execute_result"
    }
   ],
   "source": [
    "df_sc = pd.read_sql_query(\"SELECT * FROM StatusCodes\", conn)\n",
    "print(df_sc.shape)\n",
    "df_sc.head(5)"
   ]
  },
  {
   "cell_type": "code",
   "execution_count": 13,
   "metadata": {},
   "outputs": [],
   "source": [
    "conn.close()"
   ]
  },
  {
   "attachments": {},
   "cell_type": "markdown",
   "metadata": {},
   "source": [
    "#Task 2.1 a"
   ]
  },
  {
   "cell_type": "code",
   "execution_count": 23,
   "metadata": {},
   "outputs": [
    {
     "name": "stdout",
     "output_type": "stream",
     "text": [
      "SubscriptionID                   int64\n",
      "STATUS_PORTFOLIO                object\n",
      "STATUS_REASON                   object\n",
      "TECHNICAL_COMMENCEMENT_DATE     object\n",
      "VERSION_START_DATE              object\n",
      "PRODUCT                          int64\n",
      "PRODUCT_TYPE                    object\n",
      "AGENCY                          object\n",
      "REGION                          object\n",
      "CITY                            object\n",
      "DEVICE                          object\n",
      "MONTHLY_FEE                    float64\n",
      "ClientID                         int64\n",
      "dtype: object\n"
     ]
    }
   ],
   "source": [
    "print(df_sub.dtypes)"
   ]
  },
  {
   "cell_type": "code",
   "execution_count": 233,
   "metadata": {},
   "outputs": [
    {
     "data": {
      "text/plain": [
       "array([4003084,  599399, 3402393, ...,  123928, 4939771, 1161161],\n",
       "      shape=(40532,))"
      ]
     },
     "execution_count": 233,
     "metadata": {},
     "output_type": "execute_result"
    }
   ],
   "source": [
    "df_sub[\"SubscriptionID\"].unique()\n",
    "df_sub[\"STATUS_PORTFOLIO\"].unique()\n",
    "df_sub[\"STATUS_REASON\"].unique()\n",
    "df_sub[\"TECHNICAL_COMMENCEMENT_DATE\"].unique()\n",
    "df_sub[\"VERSION_START_DATE\"].unique()\n",
    "df_sub[\"PRODUCT\"].unique()\n",
    "df_sub[\"PRODUCT_TYPE\"].unique()\n",
    "df_sub[\"AGENCY\"].unique()\n",
    "df_sub[\"REGION\"].unique()\n",
    "df_sub[\"CITY\"].unique()\n",
    "df_sub[\"DEVICE\"].unique()\n",
    "df_sub[\"ClientID\"].unique()"
   ]
  },
  {
   "cell_type": "code",
   "execution_count": 234,
   "metadata": {},
   "outputs": [
    {
     "data": {
      "text/plain": [
       "array([300006922, 300017127, 300017135, ..., 322677131, 322677389,\n",
       "       515243624], shape=(40533,))"
      ]
     },
     "execution_count": 234,
     "metadata": {},
     "output_type": "execute_result"
    }
   ],
   "source": [
    "df_sub[\"SubscriptionID\"].unique()"
   ]
  },
  {
   "cell_type": "code",
   "execution_count": 235,
   "metadata": {},
   "outputs": [
    {
     "data": {
      "text/plain": [
       "array([4.18084   , 0.01560474, 0.01639875, ..., 4.743958  , 4.7209964 ,\n",
       "       4.8203104 ], shape=(28139,))"
      ]
     },
     "execution_count": 235,
     "metadata": {},
     "output_type": "execute_result"
    }
   ],
   "source": [
    "df_sub[\"MONTHLY_FEE\"].unique()"
   ]
  },
  {
   "cell_type": "code",
   "execution_count": 236,
   "metadata": {},
   "outputs": [],
   "source": [
    "categorical = [\"SubscriptionID\", \"STATUS_PORTFOLIO\", \"STATUS_REASON\", \"PRODUCT\", \"PRODUCT_TYPE\", \"AGENCY\", \"REGION\", \"CITY\", \"DEVICE\"]"
   ]
  },
  {
   "cell_type": "code",
   "execution_count": 237,
   "metadata": {},
   "outputs": [],
   "source": [
    "date = [\"TECHNICAL_COMMENCEMENT_DATE\", \"VERSION_START_DATE\"]"
   ]
  },
  {
   "cell_type": "code",
   "execution_count": 238,
   "metadata": {},
   "outputs": [
    {
     "name": "stdout",
     "output_type": "stream",
     "text": [
      "TECHNICAL_COMMENCEMENT_DATE: Date\n",
      "VERSION_START_DATE: Date\n"
     ]
    }
   ],
   "source": [
    "for i in date:\n",
    "    df_sub[i] = pd.to_datetime(df_sub[i])\n",
    "    print(f\"{i}: Date\")"
   ]
  },
  {
   "cell_type": "code",
   "execution_count": 239,
   "metadata": {},
   "outputs": [
    {
     "name": "stdout",
     "output_type": "stream",
     "text": [
      "SubscriptionID: category\n",
      "STATUS_PORTFOLIO: category\n",
      "STATUS_REASON: category\n",
      "PRODUCT: category\n",
      "PRODUCT_TYPE: category\n",
      "AGENCY: category\n",
      "REGION: category\n",
      "CITY: category\n",
      "DEVICE: category\n"
     ]
    }
   ],
   "source": [
    "for i in categorical:\n",
    "    df_sub[i] = df_sub[i].astype(\"category\")\n",
    "    print(f\"{i}: {df_sub[i].dtype}\")"
   ]
  },
  {
   "cell_type": "code",
   "execution_count": 240,
   "metadata": {},
   "outputs": [
    {
     "data": {
      "text/plain": [
       "['w', 'unpd_prm', 'ovrd', 'rnstmnt_by_cmpny', 'invldty', ..., 'ttl_srrndr_cncl', 'rnstmnt_by_ownr', 'srrnd_cnclltn_c', 'strnd_cnclltn_c', 'prmH']\n",
       "Length: 14\n",
       "Categories (14, object): ['cooling_off', 'deseased', 'invldty', 'ovrd', ..., 'strnd_cnclltn_o', 'ttl_srrndr_cncl', 'unpd_prm', 'w']"
      ]
     },
     "execution_count": 240,
     "metadata": {},
     "output_type": "execute_result"
    }
   ],
   "source": [
    "df_sub[\"STATUS_REASON\"].unique()"
   ]
  },
  {
   "cell_type": "code",
   "execution_count": 241,
   "metadata": {},
   "outputs": [
    {
     "name": "stdout",
     "output_type": "stream",
     "text": [
      "MONTHLY_FEE: continuous numeric\n"
     ]
    }
   ],
   "source": [
    "# The column should remain as a numeric type (float or int)\n",
    "# Don't try to change the type to \"continuous numeric\"\n",
    "\n",
    "# Instead, you could create a dictionary to track your classifications\n",
    "print(f\"MONTHLY_FEE: continuous numeric\")"
   ]
  },
  {
   "attachments": {},
   "cell_type": "markdown",
   "metadata": {},
   "source": [
    "Task 2.1 B"
   ]
  },
  {
   "cell_type": "code",
   "execution_count": 242,
   "metadata": {},
   "outputs": [
    {
     "data": {
      "text/plain": [
       "np.int64(40533)"
      ]
     },
     "execution_count": 242,
     "metadata": {},
     "output_type": "execute_result"
    }
   ],
   "source": [
    "df_sub[\"SubscriptionID\"].count()"
   ]
  },
  {
   "cell_type": "code",
   "execution_count": 243,
   "metadata": {},
   "outputs": [
    {
     "data": {
      "text/plain": [
       "<Axes: xlabel='STATUS_PORTFOLIO'>"
      ]
     },
     "execution_count": 243,
     "metadata": {},
     "output_type": "execute_result"
    },
    {
     "data": {
      "image/png": "[encoded data removed]",
      "text/plain": [
       "<Figure size 640x480 with 1 Axes>"
      ]
     },
     "metadata": {},
     "output_type": "display_data"
    }
   ],
   "source": [
    "df_sub[\"STATUS_PORTFOLIO\"].value_counts().plot(kind=\"bar\")"
   ]
  },
  {
   "cell_type": "code",
   "execution_count": 244,
   "metadata": {},
   "outputs": [
    {
     "data": {
      "text/plain": [
       "STATUS_PORTFOLIO\n",
       "->          33786\n",
       "canclltn     5623\n",
       "susP          871\n",
       "srrndr        253\n",
       "Name: count, dtype: int64"
      ]
     },
     "execution_count": 244,
     "metadata": {},
     "output_type": "execute_result"
    }
   ],
   "source": [
    "df_sub[\"STATUS_PORTFOLIO\"].value_counts()"
   ]
  },
  {
   "cell_type": "code",
   "execution_count": 245,
   "metadata": {},
   "outputs": [
    {
     "data": {
      "text/plain": [
       "TECHNICAL_COMMENCEMENT_DATE\n",
       "2021-12-01    1884\n",
       "2021-04-01    1582\n",
       "2021-01-01    1486\n",
       "2022-11-01    1482\n",
       "2020-11-01    1447\n",
       "2021-07-01    1339\n",
       "2022-05-01    1287\n",
       "2021-11-01    1286\n",
       "2022-10-01    1264\n",
       "2020-12-01    1238\n",
       "2022-04-01    1220\n",
       "2023-01-01    1207\n",
       "2022-12-01    1199\n",
       "2020-10-01    1141\n",
       "2023-11-01    1079\n",
       "2020-09-01    1015\n",
       "2021-08-01     986\n",
       "2023-04-01     947\n",
       "2021-03-01     812\n",
       "2023-12-01     789\n",
       "2023-06-01     748\n",
       "2020-08-01     739\n",
       "2022-07-01     733\n",
       "2022-03-01     727\n",
       "2023-07-01     689\n",
       "2020-07-01     674\n",
       "2023-10-01     663\n",
       "2024-01-01     638\n",
       "2022-08-01     603\n",
       "2021-06-01     592\n",
       "2022-01-01     589\n",
       "2021-10-01     586\n",
       "2021-05-01     585\n",
       "2021-09-01     566\n",
       "2020-05-01     560\n",
       "2020-06-01     545\n",
       "2022-09-01     534\n",
       "2022-06-01     522\n",
       "2023-03-01     517\n",
       "2024-02-01     515\n",
       "2024-03-01     496\n",
       "2021-02-01     492\n",
       "2023-08-01     488\n",
       "2022-02-01     462\n",
       "2023-05-01     454\n",
       "2023-09-01     328\n",
       "2023-02-01     315\n",
       "2020-02-01     281\n",
       "2020-04-01     135\n",
       "2020-03-01      67\n",
       "Name: count, dtype: int64"
      ]
     },
     "execution_count": 245,
     "metadata": {},
     "output_type": "execute_result"
    }
   ],
   "source": [
    "df_sub['TECHNICAL_COMMENCEMENT_DATE'] = pd.to_datetime(df_sub['TECHNICAL_COMMENCEMENT_DATE'])\n",
    "df_sub['TECHNICAL_COMMENCEMENT_DATE'].value_counts()"
   ]
  },
  {
   "cell_type": "code",
   "execution_count": 246,
   "metadata": {},
   "outputs": [
    {
     "data": {
      "text/plain": [
       "STATUS_REASON\n",
       "w                   33256\n",
       "ovrd                 3197\n",
       "unpd_prm             2008\n",
       "strnd_cnclltn_o       861\n",
       "rnstmnt_by_ownr       444\n",
       "rnstmnt_by_cmpny      335\n",
       "cooling_off           232\n",
       "deseased              117\n",
       "srrnd_cnclltn_o        43\n",
       "invldty                30\n",
       "strnd_cnclltn_c         3\n",
       "srrnd_cnclltn_c         3\n",
       "ttl_srrndr_cncl         3\n",
       "prmH                    1\n",
       "Name: count, dtype: int64"
      ]
     },
     "execution_count": 246,
     "metadata": {},
     "output_type": "execute_result"
    }
   ],
   "source": [
    "df_sub['STATUS_REASON'].value_counts()"
   ]
  },
  {
   "cell_type": "code",
   "execution_count": 247,
   "metadata": {},
   "outputs": [
    {
     "data": {
      "text/plain": [
       "<Axes: xlabel='PRODUCT'>"
      ]
     },
     "execution_count": 247,
     "metadata": {},
     "output_type": "execute_result"
    },
    {
     "data": {
      "image/png": "[encoded data removed]",
      "text/plain": [
       "<Figure size 640x480 with 1 Axes>"
      ]
     },
     "metadata": {},
     "output_type": "display_data"
    }
   ],
   "source": [
    "df_sub['PRODUCT'].value_counts().plot(kind = 'bar')"
   ]
  },
  {
   "cell_type": "code",
   "execution_count": 248,
   "metadata": {},
   "outputs": [
    {
     "data": {
      "text/plain": [
       "<Axes: xlabel='PRODUCT_TYPE'>"
      ]
     },
     "execution_count": 248,
     "metadata": {},
     "output_type": "execute_result"
    },
    {
     "data": {
      "image/png": "[encoded data removed]",
      "text/plain": [
       "<Figure size 640x480 with 1 Axes>"
      ]
     },
     "metadata": {},
     "output_type": "display_data"
    }
   ],
   "source": [
    "df_sub[\"PRODUCT_TYPE\"].value_counts().plot(kind=\"bar\")"
   ]
  },
  {
   "cell_type": "code",
   "execution_count": 249,
   "metadata": {},
   "outputs": [
    {
     "data": {
      "text/plain": [
       "[NaN, 'West Valley City', 'Jackson', 'Fargo', 'Anchorage', ..., 'Rialto', 'Memphis', 'Waterbury', 'Visalia', 'Santa Clara']\n",
       "Length: 199\n",
       "Categories (198, object): ['Abilene', 'Alexandria', 'Allen', 'Allentown', ..., 'Wichita Falls', 'Woodbridge', 'Worcester', 'Yonkers']"
      ]
     },
     "execution_count": 249,
     "metadata": {},
     "output_type": "execute_result"
    }
   ],
   "source": [
    "#df_sub.groupby([\"AGENCY\"]).count()[\"SubscriptionID\"]\n",
    "#df_sub[['CITY','REGION']]\n",
    "df_sub['CITY'].unique()"
   ]
  },
  {
   "cell_type": "code",
   "execution_count": 250,
   "metadata": {},
   "outputs": [
    {
     "data": {
      "text/plain": [
       "<Axes: >"
      ]
     },
     "execution_count": 250,
     "metadata": {},
     "output_type": "execute_result"
    },
    {
     "data": {
      "image/png": "[encoded data removed]",
      "text/plain": [
       "<Figure size 640x480 with 1 Axes>"
      ]
     },
     "metadata": {},
     "output_type": "display_data"
    }
   ],
   "source": [
    "df_sub['MONTHLY_FEE'].hist(bins=100)"
   ]
  },
  {
   "cell_type": "code",
   "execution_count": 251,
   "metadata": {},
   "outputs": [
    {
     "data": {
      "text/plain": [
       "BIRTH_DATE\n",
       "28- II.- 76            13\n",
       "1988-04-02 00:00:00    11\n",
       "1985-11-21 00:00:00    11\n",
       "14- XI.- 62            10\n",
       "1984-11-08 00:00:00    10\n",
       "                       ..\n",
       "1988-09-21 00:00:00     1\n",
       "24- VI.- 78             1\n",
       "1983-02-02 00:00:00     1\n",
       "2003-12-01 00:00:00     1\n",
       "1987-02-15 00:00:00     1\n",
       "Name: count, Length: 18413, dtype: int64"
      ]
     },
     "execution_count": 251,
     "metadata": {},
     "output_type": "execute_result"
    }
   ],
   "source": [
    "df_client['BIRTH_DATE'].value_counts()"
   ]
  },
  {
   "attachments": {},
   "cell_type": "markdown",
   "metadata": {},
   "source": [
    "## Task 2.2\n"
   ]
  },
  {
   "cell_type": "code",
   "execution_count": 4,
   "metadata": {},
   "outputs": [],
   "source": [
    "def format_date(date):\n",
    " \n",
    "    if pd.isna(date):  \n",
    "        return None\n",
    "    \n",
    "    if isinstance(date, str):  \n",
    "        date_parts = date.split('-')\n",
    " \n",
    "        if len(date_parts) != 3:\n",
    "            # print(f\"Error: Invalid date format - {date}\")\n",
    "            return None  \n",
    "        \n",
    "        #day\n",
    "        if int(date_parts[0]) >= 10:\n",
    "            day = date_parts[0].strip()\n",
    "        else:\n",
    "            day = '0'+ date_parts[0].strip()\n",
    "        \n",
    "        #year\n",
    "        year = '19' + date_parts[2].strip()\n",
    " \n",
    "        #month\n",
    "        month = date_parts[1].strip().replace('.', '')\n",
    "        roman_to_month = {\n",
    "            \"I\": \"01\", \"II\": \"02\", \"III\": \"03\", \"IV\": \"04\", \"V\": \"05\", \"VI\": \"06\",\n",
    "            \"VII\": \"07\", \"VIII\": \"08\", \"IX\": \"09\", \"X\": \"10\", \"XI\": \"11\", \"XII\": \"12\"\n",
    "        }\n",
    "        if month in roman_to_month:\n",
    "            month = roman_to_month[month]\n",
    "        else:\n",
    "            print(f\"Error: Invalid month - {month}\")\n",
    "            return None\n",
    "        \n",
    "        return f\"{year}-{month}-{day}\"\n",
    "    else:\n",
    "        return None"
   ]
  },
  {
   "cell_type": "code",
   "execution_count": 24,
   "metadata": {},
   "outputs": [
    {
     "name": "stderr",
     "output_type": "stream",
     "text": [
      "C:\\Users\\anqscl\\AppData\\Local\\Temp\\ipykernel_12500\\898589917.py:4: UserWarning: Could not infer format, so each element will be parsed individually, falling back to `dateutil`. To ensure parsing is consistent and as-expected, please specify a format.\n",
      "  df_client['BIRTH_DATE'] = pd.to_datetime(df_client['BIRTH_DATE'], errors='coerce')\n"
     ]
    },
    {
     "name": "stdout",
     "output_type": "stream",
     "text": [
      "       ClientID BIRTH_DATE     Sex\n",
      "0           420 1936-08-10    Male\n",
      "1           927 1953-01-02  Female\n",
      "2          1399 1993-02-16    Male\n",
      "3          1505 1961-11-09    Male\n",
      "4          1730 1980-10-22    Male\n",
      "...         ...        ...     ...\n",
      "44376   6999271 1974-07-21  Female\n",
      "44377   6999357 1976-08-11    Male\n",
      "44378   6999709 1997-12-19    Male\n",
      "44379   6999830 1979-09-24  Female\n",
      "44380   6999961 1973-11-26    Male\n",
      "\n",
      "[44381 rows x 3 columns]\n"
     ]
    },
    {
     "data": {
      "text/plain": [
       "ClientID               int64\n",
       "BIRTH_DATE    datetime64[ns]\n",
       "Sex                   object\n",
       "dtype: object"
      ]
     },
     "execution_count": 24,
     "metadata": {},
     "output_type": "execute_result"
    }
   ],
   "source": [
    "df_clients_temp = df_client.copy(deep=True)\n",
    "# print(df_clients_temp)\n",
    " \n",
    "df_client['BIRTH_DATE'] = pd.to_datetime(df_client['BIRTH_DATE'], errors='coerce')\n",
    "# print(df_clients_temp)\n",
    " \n",
    " \n",
    "null_index = df_client[df_client['BIRTH_DATE'].isna()].index.tolist()\n",
    "# print(df_clients_temp)\n",
    "# print(null_index)\n",
    " \n",
    "# print(df_clients_temp.loc[1, 'BIRTH_DATE'])\n",
    " \n",
    "df_clients_temp.loc[null_index, 'BIRTH_DATE'] = df_clients_temp.loc[null_index, 'BIRTH_DATE'].apply(format_date)\n",
    " \n",
    "df_clients_temp.loc[null_index, 'BIRTH_DATE'] = pd.to_datetime(df_clients_temp.loc[null_index, 'BIRTH_DATE'])\n",
    "# print(df_clients_temp)\n",
    " \n",
    "# # Merge the results back to the original dataframe\n",
    "df_client.loc[null_index, 'BIRTH_DATE'] = df_clients_temp.loc[null_index, 'BIRTH_DATE']\n",
    " \n",
    "print(df_client)\n",
    "df_client.dtypes"
   ]
  },
  {
   "cell_type": "code",
   "execution_count": 25,
   "metadata": {},
   "outputs": [
    {
     "name": "stdout",
     "output_type": "stream",
     "text": [
      "       ClientID BIRTH_DATE     Sex        AGE\n",
      "0           420 1936-08-10    Male  88.558522\n",
      "1           927 1953-01-02  Female  72.161533\n",
      "2          1399 1993-02-16    Male  32.038330\n",
      "3          1505 1961-11-09    Male  63.310062\n",
      "4          1730 1980-10-22    Male  44.358658\n",
      "...         ...        ...     ...        ...\n",
      "44376   6999271 1974-07-21  Female  50.614648\n",
      "44377   6999357 1976-08-11    Male  48.555784\n",
      "44378   6999709 1997-12-19    Male  27.200548\n",
      "44379   6999830 1979-09-24  Female  45.437372\n",
      "44380   6999961 1973-11-26    Male  51.263518\n",
      "\n",
      "[44381 rows x 4 columns]\n"
     ]
    }
   ],
   "source": [
    "from datetime import datetime\n",
    "current_date = pd.to_datetime(datetime.today().date())\n",
    "df_client['AGE'] = (current_date - df_client['BIRTH_DATE']).dt.days/365.25\n",
    "print(df_client)"
   ]
  },
  {
   "attachments": {},
   "cell_type": "markdown",
   "metadata": {},
   "source": [
    "## Task 2.3\n"
   ]
  },
  {
   "cell_type": "code",
   "execution_count": 26,
   "metadata": {},
   "outputs": [
    {
     "name": "stdout",
     "output_type": "stream",
     "text": [
      "0        Mobile Device\n",
      "1        Mobile Device\n",
      "2        Mobile Device\n",
      "3        Mobile Device\n",
      "4        Mobile Device\n",
      "             ...      \n",
      "40528    Mobile Device\n",
      "40529               TV\n",
      "40530          Browser\n",
      "40531          Browser\n",
      "40532    Mobile Device\n",
      "Name: DEVICE, Length: 40533, dtype: object\n"
     ]
    }
   ],
   "source": [
    "types_of_devices = ['Mobile Device', 'TV', 'Browser']\n",
    "device_mapping = {\n",
    "    'Mobile Device': ['Mob.dev.', 'mobile', 'Mobile Device'],\n",
    "    'TV': ['TV', 'Telev', 'television'],\n",
    "    'Browser': ['Browser', 'Brow.', 'browser']\n",
    "}\n",
    "def map_device(device):\n",
    "    for category, variations in device_mapping.items():\n",
    "        # print(category)\n",
    "        # print(variations)\n",
    "        # print()\n",
    "        if device in variations:\n",
    "            return category\n",
    "    return 'Unknown'\n",
    "df_sub['DEVICE']= df_sub['DEVICE'].apply(map_device)\n",
    "print(df_sub['DEVICE'])"
   ]
  },
  {
   "attachments": {},
   "cell_type": "markdown",
   "metadata": {},
   "source": [
    "## Task 2.4"
   ]
  },
  {
   "cell_type": "code",
   "execution_count": 254,
   "metadata": {},
   "outputs": [],
   "source": [
    "#checking which rows belong to Central Online Customer Contact Agency\n",
    "import us\n",
    "import geonamescache"
   ]
  },
  {
   "cell_type": "code",
   "execution_count": 263,
   "metadata": {},
   "outputs": [],
   "source": [
    "#Innitialize the geonames cache\n",
    "gc = geonamescache.GeonamesCache()\n",
    "\n",
    "#get dictionary of us states with their codes\n",
    "us_states = gc.get_us_states()\n",
    "# This gives state data in format {state_code: {'name': state_name, ...}, ...}\n",
    "\n",
    "#Get dictionary of citiess\n",
    "cities_dict = gc.get_cities()"
   ]
  },
  {
   "cell_type": "code",
   "execution_count": 269,
   "metadata": {},
   "outputs": [],
   "source": [
    "# Create a mapping from admin1code to state abbreviation\n",
    "admin1_to_state = {}\n",
    "for state_code, state_info in us_states.items():\n",
    "    # The admin1code in cities is stored as 'US.' + state number code\n",
    "    admin1_code = f\"US.{state_info['fips']}\"  # Use square brackets here\n",
    "    admin1_to_state[admin1_code] = state_code"
   ]
  },
  {
   "cell_type": "code",
   "execution_count": 270,
   "metadata": {},
   "outputs": [],
   "source": [
    "# Create a dictionary to map US city names to state abbreviations\n",
    "city_to_state = {}"
   ]
  },
  {
   "cell_type": "code",
   "execution_count": 273,
   "metadata": {},
   "outputs": [],
   "source": [
    "# Iterate through cities and extract US cities with their state codes\n",
    "for city_id, city_data in cities_dict.items():\n",
    "    #checl if the city is in the US\n",
    "    if city_data[\"countrycode\"] == \"US\":\n",
    "        city_name = city_data[\"name\"]\n",
    "        #The state code is in the admin' field for US cities\n",
    "        state_code = city_data['admin1code']\n",
    "\n",
    "        # Get the state abbreviation\n",
    "        if admin1_code in admin1_to_state:\n",
    "            state_abbr = admin1_to_state[admin1_code]\n",
    "\n",
    "        # Add to our city-to-state mapping\n",
    "        if city_name not in city_to_state:\n",
    "            city_to_state[city_name] = []\n",
    "        if state_abbr not in city_to_state[city_name]:\n",
    "            city_to_state[city_name].append(state_abbr)"
   ]
  },
  {
   "cell_type": "code",
   "execution_count": 277,
   "metadata": {},
   "outputs": [
    {
     "name": "stdout",
     "output_type": "stream",
     "text": [
      "Fort Hunt: WY\n",
      "Bessemer: WY\n",
      "Paducah: WY\n",
      "Birmingham: WY\n",
      "Cordova: WY\n"
     ]
    }
   ],
   "source": [
    "#preview a few mappings\n",
    "for city, states in list(city_to_state.items())[:5]:\n",
    "    print(f\"{city}: {', '.join(states)}\")"
   ]
  },
  {
   "cell_type": "code",
   "execution_count": 282,
   "metadata": {},
   "outputs": [],
   "source": [
    "# Function to get state abbreviation for a city\n",
    "def get_state_for_city(city_name):\n",
    "    if city_name in city_to_state:\n",
    "        states = city_to_state[city_name]\n",
    "        return states[0]\n",
    "    return None"
   ]
  },
  {
   "cell_type": "code",
   "execution_count": 279,
   "metadata": {},
   "outputs": [
    {
     "name": "stdout",
     "output_type": "stream",
     "text": [
      "{'Fort Hunt': ['WY'], 'Bessemer': ['WY'], 'Paducah': ['WY'], 'Birmingham': ['WY'], 'Cordova': ['WY'], 'Center Point': ['WY'], 'Cullman': ['WY'], 'Daphne': ['WY'], 'Decatur': ['WY'], 'Dothan': ['WY'], 'East Florence': ['WY'], 'Enterprise': ['WY'], 'Fairhope': ['WY'], 'Florence': ['WY'], 'Foley': ['WY'], 'Gadsden': ['WY'], 'Helena': ['WY'], 'Homewood': ['WY'], 'Hoover': ['WY'], 'Hueytown': ['WY'], 'Huntsville': ['WY'], 'Madison': ['WY'], 'Millbrook': ['WY'], 'Mobile': ['WY'], 'Montgomery': ['WY'], 'Mountain Brook': ['WY'], 'Northport': ['WY'], 'Opelika': ['WY'], 'Oxford': ['WY'], 'Pelham': ['WY'], 'Phenix City': ['WY'], 'Prattville': ['WY'], 'Prichard': ['WY'], 'Selma': ['WY'], 'Talladega': ['WY'], 'Tillmans Corner': ['WY'], 'Troy': ['WY'], 'Trussville': ['WY'], 'Tuscaloosa': ['WY'], 'Vestavia Hills': ['WY'], 'Bella Vista': ['WY'], 'Benton': ['WY'], 'Bentonville': ['WY'], 'Bryant': ['WY'], 'Cabot': ['WY'], 'Conway': ['WY'], 'El Dorado': ['WY'], 'Fayetteville': ['WY'], 'Fort Smith': ['WY'], 'Hot Springs': ['WY'], 'Jacksonville': ['WY'], 'Jonesboro': ['WY'], 'Little Rock': ['WY'], 'Maumelle': ['WY'], 'North Little Rock': ['WY'], 'Paragould': ['WY'], 'Pine Bluff': ['WY'], 'Rogers': ['WY'], 'Russellville': ['WY'], 'Searcy': ['WY'], 'Siloam Springs': ['WY'], 'Springdale': ['WY'], 'Texarkana': ['WY'], 'Van Buren': ['WY'], 'West Memphis': ['WY'], 'Adams Morgan': ['WY'], 'Shaw': ['WY'], 'Washington': ['WY'], 'Bear': ['WY'], 'Dover': ['WY'], 'Middletown': ['WY'], 'Newark': ['WY'], 'Wilmington': ['WY'], 'Allapattah': ['WY'], 'Altamonte Springs': ['WY'], 'Apopka': ['WY'], 'Auburndale': ['WY'], 'Aventura': ['WY'], 'Bartow': ['WY'], 'Bayonet Point': ['WY'], 'Bayshore Gardens': ['WY'], 'Belle Glade': ['WY'], 'Bellview': ['WY'], 'Bloomingdale': ['WY'], 'Boca Del Mar': ['WY'], 'Boca Raton': ['WY'], 'Bonita Springs': ['WY'], 'Boynton Beach': ['WY'], 'Bradenton': ['WY'], 'Brandon': ['WY'], 'Brent': ['WY'], 'Brownsville': ['WY'], 'Buenaventura Lakes': ['WY'], 'Cantonment': ['WY'], 'Cape Coral': ['WY'], 'Carol City': ['WY'], 'Carrollwood': ['WY'], 'Carrollwood Village': ['WY'], 'Casselberry': ['WY'], 'Citrus Park': ['WY'], 'Clearwater': ['WY'], 'Clermont': ['WY'], 'Cocoa': ['WY'], 'Coconut Creek': ['WY'], 'Coconut Grove': ['WY'], 'Cooper City': ['WY'], 'Coral Gables': ['WY'], 'Coral Springs': ['WY'], 'Coral Terrace': ['WY'], 'Country Walk': ['WY'], 'Country Club': ['WY'], 'Crestview': ['WY'], 'Cutler': ['WY'], 'Cutler Ridge': ['WY'], 'Dania Beach': ['WY'], 'Davie': ['WY'], 'Daytona Beach': ['WY'], 'DeLand': ['WY'], 'DeBary': ['WY'], 'Deerfield Beach': ['WY'], 'Delray Beach': ['WY'], 'Deltona': ['WY'], 'Doral': ['WY'], 'Dunedin': ['WY'], 'East Lake': ['WY'], 'East Naples': ['WY'], 'East Pensacola Heights': ['WY'], 'Edgewater': ['WY'], 'Egypt Lake-Leto': ['WY'], 'Ensley': ['WY'], 'Estero': ['WY'], 'Eustis': ['WY'], 'Ferry Pass': ['WY'], 'Flagami': ['WY'], 'Fleming Island': ['WY'], 'Florida Ridge': ['WY'], 'Fort Lauderdale': ['WY'], 'Fort Myers': ['WY'], 'Fort Pierce': ['WY'], 'Fort Walton Beach': ['WY'], 'Fountainebleau': ['WY'], 'Fruit Cove': ['WY'], 'Gainesville': ['WY'], 'Glenvar Heights': ['WY'], 'Golden Gate': ['WY'], 'Golden Glades': ['WY'], 'Greenacres City': ['WY'], 'Haines City': ['WY'], 'Hallandale Beach': ['WY'], 'Hialeah': ['WY'], 'Hialeah Gardens': ['WY'], 'Holiday': ['WY'], 'Hollywood': ['WY'], 'Homestead': ['WY'], 'Immokalee': ['WY'], 'Iona': ['WY'], 'Ives Estates': ['WY'], 'Jacksonville Beach': ['WY'], 'Jasmine Estates': ['WY'], 'Jupiter': ['WY'], 'Kendale Lakes': ['WY'], 'Kendall': ['WY'], 'Key West': ['WY'], 'Keystone': ['WY'], 'Kissimmee': ['WY'], 'Lake Butler': ['WY'], 'Lake Magdalene': ['WY'], 'Lake Mary': ['WY'], 'Lake Wales': ['WY'], 'Lake Worth': ['WY'], 'Lake Worth Corridor': ['WY'], 'Lakeland': ['WY'], 'Lakeside': ['WY'], \"Land O' Lakes\": ['WY'], 'Largo': ['WY'], 'Lauderdale Lakes': ['WY'], 'Lauderhill': ['WY'], 'Lealman': ['WY'], 'Leesburg': ['WY'], 'Lehigh Acres': ['WY'], 'Leisure City': ['WY'], 'Lutz': ['WY'], 'Lynn Haven': ['WY'], 'Maitland': ['WY'], 'Marco Island': ['WY'], 'Margate': ['WY'], 'Meadow Woods': ['WY'], 'Melbourne': ['WY'], 'Merritt Island': ['WY'], 'Miami': ['WY'], 'Miami Beach': ['WY'], 'Miami Gardens': ['WY'], 'Miami Lakes': ['WY'], 'Miramar': ['WY'], 'Myrtle Grove': ['WY'], 'Naples': ['WY'], 'Navarre': ['WY'], 'New Port Richey': ['WY'], 'New Smyrna Beach': ['WY'], 'Norland': ['WY'], 'North Fort Myers': ['WY'], 'North Lauderdale': ['WY'], 'North Miami': ['WY'], 'North Miami Beach': ['WY'], 'North Port': ['WY'], 'Oak Ridge': ['WY'], 'Oakland Park': ['WY'], 'Ocala': ['WY'], 'Ocoee': ['WY'], 'Ojus': ['WY'], 'Opa-locka': ['WY'], 'Orlando': ['WY'], 'Ormond Beach': ['WY'], 'Oviedo': ['WY'], 'Pace': ['WY'], 'Palm Bay': ['WY'], 'Palm Beach Gardens': ['WY'], 'Palm City': ['WY'], 'Palm Coast': ['WY'], 'Palm Harbor': ['WY'], 'Palm Springs': ['WY'], 'Palm Valley': ['WY'], 'Palmetto Bay': ['WY'], 'Panama City': ['WY'], 'Parkland': ['WY'], 'Pembroke Pines': ['WY'], 'Pensacola': ['WY'], 'Pine Hills': ['WY'], 'Pinecrest': ['WY'], 'Pinellas Park': ['WY'], 'Pinewood': ['WY'], 'Plant City': ['WY'], 'Plantation': ['WY'], 'Poinciana': ['WY'], 'Pompano Beach': ['WY'], 'Ponte Vedra Beach': ['WY'], 'Port Charlotte': ['WY'], 'Port Orange': ['WY'], 'Port Saint Lucie': ['WY'], 'Princeton': ['WY'], 'Punta Gorda': ['WY'], 'Punta Gorda Isles': ['WY'], 'Richmond West': ['WY'], 'Riverview': ['WY'], 'Riviera Beach': ['WY'], 'Rockledge': ['WY'], 'Royal Palm Beach': ['WY'], 'Ruskin': ['WY'], 'Safety Harbor': ['WY'], 'Saint Cloud': ['WY'], 'St. Petersburg': ['WY'], 'San Carlos Park': ['WY'], 'Sanford': ['WY'], 'Santa Rosa Beach': ['WY'], 'Sarasota': ['WY'], 'Sebastian': ['WY'], 'Seminole': ['WY'], 'South Bradenton': ['WY'], 'South Miami Heights': ['WY'], 'Southchase': ['WY'], 'Spring Hill': ['WY'], 'Stuart': ['WY'], 'Sun City Center': ['WY'], 'Sunny Isles Beach': ['WY'], 'Sunrise': ['WY'], 'Sunset': ['WY'], 'Sweetwater': ['WY'], 'Tallahassee': ['WY'], 'Tamarac': ['WY'], 'Tamiami': ['WY'], 'Tampa': ['WY'], 'Tarpon Springs': ['WY'], 'Tavares': ['WY'], 'Temple Terrace': ['WY'], 'The Crossings': ['WY'], 'The Hammocks': ['WY'], 'The Villages': ['WY'], 'Three Lakes': ['WY'], 'Titusville': ['WY'], \"Town 'n' Country\": ['WY'], 'University Park': ['WY'], 'Valrico': ['WY'], 'Venice': ['WY'], 'Vero Beach': ['WY'], 'Wekiwa Springs': ['WY'], 'Wellington': ['WY'], 'Wesley Chapel': ['WY'], 'Westchase': ['WY'], 'West Hollywood': ['WY'], 'West Little River': ['WY'], 'West Melbourne': ['WY'], 'West Palm Beach': ['WY'], 'West Park': ['WY'], 'West Pensacola': ['WY'], 'West and East Lealman': ['WY'], 'Westchester': ['WY'], 'Weston': ['WY'], 'Winter Garden': ['WY'], 'Winter Haven': ['WY'], 'Winter Park': ['WY'], 'Winter Springs': ['WY'], 'Wright': ['WY'], 'Acworth': ['WY'], 'Albany': ['WY'], 'Alpharetta': ['WY'], 'Americus': ['WY'], 'Athens': ['WY'], 'Atlanta': ['WY'], 'Augusta': ['WY'], 'Belvedere Park': ['WY'], 'Brookhaven': ['WY'], 'Brunswick': ['WY'], 'Calhoun': ['WY'], 'Canton': ['WY'], 'Carrollton': ['WY'], 'Cartersville': ['WY'], 'Chamblee': ['WY'], 'Columbus': ['WY'], 'Conyers': ['WY'], 'Dalton': ['WY'], 'Douglasville': ['WY'], 'Dublin': ['WY'], 'Duluth': ['WY'], 'Dunwoody': ['WY'], 'East Point': ['WY'], 'Evans': ['WY'], 'Forest Park': ['WY'], 'Griffin': ['WY'], 'Hinesville': ['WY'], 'Kennesaw': ['WY'], 'Kingsland': ['WY'], 'LaGrange': ['WY'], 'Lawrenceville': ['WY'], 'Lithia Springs': ['WY'], 'Mableton': ['WY'], 'Macon': ['WY'], 'Marietta': ['WY'], 'Martinez': ['WY'], 'McDonough': ['WY'], 'Milledgeville': ['WY'], 'Newnan': ['WY'], 'Norcross': ['WY'], 'North Atlanta': ['WY'], 'North Decatur': ['WY'], 'North Druid Hills': ['WY'], 'Peachtree City': ['WY'], 'Peachtree Corners': ['WY'], 'Perry': ['WY'], 'Pooler': ['WY'], 'Redan': ['WY'], 'Riverdale': ['WY'], 'Rome': ['WY'], 'Roswell': ['WY'], 'St. Marys': ['WY'], 'Sandy Springs': ['WY'], 'Savannah': ['WY'], 'Smyrna': ['WY'], 'Snellville': ['WY'], 'Statesboro': ['WY'], 'Stockbridge': ['WY'], 'Sugar Hill': ['WY'], 'Suwanee': ['WY'], 'Thomasville': ['WY'], 'Tifton': ['WY'], 'Tucker': ['WY'], 'Union City': ['WY'], 'Valdosta': ['WY'], 'Warner Robins': ['WY'], 'Wilmington Island': ['WY'], 'Winder': ['WY'], 'Woodstock': ['WY'], 'Alton': ['WY'], 'Belleville': ['WY'], 'Carbondale': ['WY'], 'Charleston': ['WY'], 'Collinsville': ['WY'], 'East Saint Louis': ['WY'], 'Edwardsville': ['WY'], 'Fairview Heights': ['WY'], 'Godfrey': ['WY'], 'Granite City': ['WY'], 'Marion': ['WY'], 'Mattoon': ['WY'], 'Mount Vernon': ['WY'], \"O'Fallon\": ['WY'], 'Quincy': ['WY'], 'Springfield': ['WY'], 'Upper Alton': ['WY'], 'Avon': ['WY'], 'Bloomington': ['WY'], 'Broad Ripple': ['WY'], 'Brownsburg': ['WY'], 'Carmel': ['WY'], 'Clarksville': ['WY'], 'Evansville': ['WY'], 'Fishers': ['WY'], 'Greenfield': ['WY'], 'Greenwood': ['WY'], 'Indianapolis': ['WY'], 'Jasper': ['WY'], 'Jeffersonville': ['WY'], 'Lawrence': ['WY'], 'New Albany': ['WY'], 'New Castle': ['WY'], 'Plainfield': ['WY'], 'Richmond': ['WY'], 'Seymour': ['WY'], 'Shelbyville': ['WY'], 'Terre Haute': ['WY'], 'Vincennes': ['WY'], 'Zionsville': ['WY'], 'Derby': ['WY'], 'Emporia': ['WY'], 'Gardner': ['WY'], 'Great Bend': ['WY'], 'Hays': ['WY'], 'Hutchinson': ['WY'], 'Junction City': ['WY'], 'Kansas City': ['WY'], 'Leavenworth': ['WY'], 'Leawood': ['WY'], 'Lenexa': ['WY'], 'Manhattan': ['WY'], 'Newton': ['WY'], 'Olathe': ['WY'], 'Overland Park': ['WY'], 'Pittsburg': ['WY'], 'Prairie Village': ['WY'], 'Salina': ['WY'], 'Shawnee': ['WY'], 'Topeka': ['WY'], 'Wichita': ['WY'], 'Ashland': ['WY'], 'Bowling Green': ['WY'], 'Burlington': ['WY'], 'Covington': ['WY'], 'Danville': ['WY'], 'Elizabethtown': ['WY'], 'Erlanger': ['WY'], 'Fern Creek': ['WY'], 'Fort Thomas': ['WY'], 'Frankfort': ['WY'], 'Georgetown': ['WY'], 'Henderson': ['WY'], 'Highview': ['WY'], 'Hopkinsville': ['WY'], 'Independence': ['WY'], 'Ironville': ['WY'], 'Jeffersontown': ['WY'], 'Lexington': ['WY'], 'Lexington-Fayette': ['WY'], 'Louisville': ['WY'], 'Madisonville': ['WY'], 'Meads': ['WY'], 'Murray': ['WY'], 'Newburg': ['WY'], 'Newport': ['WY'], 'Nicholasville': ['WY'], 'Okolona': ['WY'], 'Owensboro': ['WY'], 'Pleasure Ridge Park': ['WY'], 'Radcliff': ['WY'], 'Saint Matthews': ['WY'], 'Shively': ['WY'], 'Valley Station': ['WY'], 'Winchester': ['WY'], 'Alexandria': ['WY'], 'Baton Rouge': ['WY'], 'Bayou Cane': ['WY'], 'Bossier City': ['WY'], 'Central': ['WY'], 'Chalmette': ['WY'], 'Estelle': ['WY'], 'Gretna': ['WY'], 'Hammond': ['WY'], 'Harvey': ['WY'], 'Houma': ['WY'], 'Kenner': ['WY'], 'Lafayette': ['WY'], 'Lake Charles': ['WY'], 'Laplace': ['WY'], 'Marrero': ['WY'], 'Metairie': ['WY'], 'Metairie Terrace': ['WY'], 'Monroe': ['WY'], 'Natchitoches': ['WY'], 'New Iberia': ['WY'], 'New Orleans': ['WY'], 'Opelousas': ['WY'], 'Prairieville': ['WY'], 'Ruston': ['WY'], 'Shenandoah': ['WY'], 'Shreveport': ['WY'], 'Slidell': ['WY'], 'Sulphur': ['WY'], 'Terrytown': ['WY'], 'Zachary': ['WY'], 'Aberdeen': ['WY'], 'Adelphi': ['WY'], 'Annapolis': ['WY'], 'Arbutus': ['WY'], 'Arnold': ['WY'], 'Aspen Hill': ['WY'], 'Baltimore': ['WY'], 'Ballenger Creek': ['WY'], 'Beltsville': ['WY'], 'Bethesda': ['WY'], 'Bowie': ['WY'], 'Calverton': ['WY'], 'Camp Springs': ['WY'], 'Carney': ['WY'], 'Catonsville': ['WY'], 'Chillum': ['WY'], 'Cloverly': ['WY'], 'Clinton': ['WY'], 'Cockeysville': ['WY'], 'College Park': ['WY'], 'Columbia': ['WY'], 'Crofton': ['WY'], 'Cumberland': ['WY'], 'Damascus': ['WY'], 'Dundalk': ['WY'], 'East Riverdale': ['WY'], 'Easton': ['WY'], 'Edgewood': ['WY'], 'Eldersburg': ['WY'], 'Elkton': ['WY'], 'Elkridge': ['WY'], 'Ellicott City': ['WY'], 'Essex': ['WY'], 'Fairland': ['WY'], 'Ferndale': ['WY'], 'Fort Washington': ['WY'], 'Frederick': ['WY'], 'Gaithersburg': ['WY'], 'Germantown': ['WY'], 'Glassmanor': ['WY'], 'Glen Burnie': ['WY'], 'Green Haven': ['WY'], 'Greenbelt': ['WY'], 'Gwynn Oak': ['WY'], 'Hagerstown': ['WY'], 'Hanover': ['WY'], 'Hillcrest Heights': ['WY'], 'Hunt Valley': ['WY'], 'Hyattsville': ['WY'], 'Ilchester': ['WY'], 'Lake Shore': ['WY'], 'Landover': ['WY'], 'Langley Park': ['WY'], 'Laurel': ['WY'], 'Lochearn': ['WY'], 'Maryland City': ['WY'], 'Middle River': ['WY'], 'Milford Mill': ['WY'], 'Montgomery Village': ['WY'], 'North Bel Air': ['WY'], 'North Bethesda': ['WY'], 'North Potomac': ['WY'], 'Odenton': ['WY'], 'Olney': ['WY'], 'Owings Mills': ['WY'], 'Oxon Hill': ['WY'], 'Parkville': ['WY'], 'Parole': ['WY'], 'Pasadena': ['WY'], 'Perry Hall': ['WY'], 'Pikesville': ['WY'], 'Potomac': ['WY'], 'Randallstown': ['WY'], 'Redland': ['WY'], 'Reisterstown': ['WY'], 'Rockville': ['WY'], 'Rosedale': ['WY'], 'Rossville': ['WY'], 'Saint Charles': ['WY'], 'Salisbury': ['WY'], 'Scaggsville': ['WY'], 'Seabrook': ['WY'], 'Severn': ['WY'], 'Severna Park': ['WY'], 'Silver Spring': ['WY'], 'South Bel Air': ['WY'], 'South Gate': ['WY'], 'South Laurel': ['WY'], 'Suitland': ['WY'], 'Takoma Park': ['WY'], 'Towson': ['WY'], 'Waldorf': ['WY'], 'West Elkridge': ['WY'], 'Westminster': ['WY'], 'Wheaton': ['WY'], 'White Oak': ['WY'], 'Woodlawn': ['WY'], 'Affton': ['WY'], 'Ballwin': ['WY'], 'Belton': ['WY'], 'Blue Springs': ['WY'], 'Cape Girardeau': ['WY'], 'Chesterfield': ['WY'], 'Clayton': ['WY'], 'Concord': ['WY'], 'Creve Coeur': ['WY'], 'East Independence': ['WY'], 'Farmington': ['WY'], 'Ferguson': ['WY'], 'Florissant': ['WY'], 'Gladstone': ['WY'], 'Grandview': ['WY'], 'Hannibal': ['WY'], 'Hazelwood': ['WY'], 'Jefferson City': ['WY'], 'Joplin': ['WY'], 'Kirkwood': ['WY'], \"Lee's Summit\": ['WY'], 'Lemay': ['WY'], 'Liberty': ['WY'], 'Manchester': ['WY'], 'Maryland Heights': ['WY'], 'Mehlville': ['WY'], 'Nixa': ['WY'], 'Oakville': ['WY'], 'Overland': ['WY'], 'Ozark': ['WY'], 'Poplar Bluff': ['WY'], 'Raymore': ['WY'], 'Raytown': ['WY'], 'Republic': ['WY'], 'Rolla': ['WY'], 'Saint Joseph': ['WY'], 'St. Louis': ['WY'], 'Saint Peters': ['WY'], 'Sedalia': ['WY'], 'Sikeston': ['WY'], 'Spanish Lake': ['WY'], 'University City': ['WY'], 'Warrensburg': ['WY'], 'Webster Groves': ['WY'], 'Wentzville': ['WY'], 'Wildwood': ['WY'], 'Biloxi': ['WY'], 'Clarksdale': ['WY'], 'Gautier': ['WY'], 'Greenville': ['WY'], 'Gulfport': ['WY'], 'Hattiesburg': ['WY'], 'Hernando': ['WY'], 'Horn Lake': ['WY'], 'Jackson': ['WY'], 'Long Beach': ['WY'], 'Meridian': ['WY'], 'Natchez': ['WY'], 'Ocean Springs': ['WY'], 'Olive Branch': ['WY'], 'Pascagoula': ['WY'], 'Pearl': ['WY'], 'Ridgeland': ['WY'], 'Southaven': ['WY'], 'Starkville': ['WY'], 'Tupelo': ['WY'], 'Vicksburg': ['WY'], 'West Gulfport': ['WY'], 'Albemarle': ['WY'], 'Apex': ['WY'], 'Asheboro': ['WY'], 'Asheville': ['WY'], 'Boone': ['WY'], 'Carrboro': ['WY'], 'Cary': ['WY'], 'Chapel Hill': ['WY'], 'Charlotte': ['WY'], 'Clemmons': ['WY'], 'Cornelius': ['WY'], 'Durham': ['WY'], 'Eden': ['WY'], 'Elizabeth City': ['WY'], 'Fuquay-Varina': ['WY'], 'Garner': ['WY'], 'Gastonia': ['WY'], 'Goldsboro': ['WY'], 'Greensboro': ['WY'], 'Havelock': ['WY'], 'Hickory': ['WY'], 'High Point': ['WY'], 'Holly Springs': ['WY'], 'Hope Mills': ['WY'], 'Huntersville': ['WY'], 'Indian Trail': ['WY'], 'Kannapolis': ['WY'], 'Kernersville': ['WY'], 'Kinston': ['WY'], 'Laurinburg': ['WY'], 'Leland': ['WY'], 'Lenoir': ['WY'], 'Lumberton': ['WY'], 'Matthews': ['WY'], 'Mint Hill': ['WY'], 'Mooresville': ['WY'], 'Morganton': ['WY'], 'Morrisville': ['WY'], 'New Bern': ['WY'], 'Pinehurst': ['WY'], 'Raleigh': ['WY'], 'Roanoke Rapids': ['WY'], 'Rocky Mount': ['WY'], 'Shelby': ['WY'], 'Stallings': ['WY'], 'Statesville': ['WY'], 'Wake Forest': ['WY'], 'West Raleigh': ['WY'], 'Wilson': ['WY'], 'Winston-Salem': ['WY'], 'Atlantic City': ['WY'], 'Bayville': ['WY'], 'Bridgeton': ['WY'], 'Camden': ['WY'], 'Cherry Hill': ['WY'], 'Glassboro': ['WY'], 'Lindenwold': ['WY'], 'Maple Shade': ['WY'], 'Millville': ['WY'], 'Mount Laurel': ['WY'], 'Ocean Acres': ['WY'], 'Pennsauken': ['WY'], 'Pleasantville': ['WY'], 'Sewell': ['WY'], 'Sicklerville': ['WY'], 'South Vineland': ['WY'], 'Toms River': ['WY'], 'Vincentown': ['WY'], 'Vineland': ['WY'], 'Williamstown': ['WY'], 'Beavercreek': ['WY'], 'Centerville': ['WY'], 'Cincinnati': ['WY'], 'Dayton': ['WY'], 'Fairborn': ['WY'], 'Fairfield': ['WY'], 'Grove City': ['WY'], 'Hamilton': ['WY'], 'Huber Heights': ['WY'], 'Kettering': ['WY'], 'Lancaster': ['WY'], 'Lebanon': ['WY'], 'Mason': ['WY'], 'Miamisburg': ['WY'], 'Norwood': ['WY'], 'Pataskala': ['WY'], 'Pickerington': ['WY'], 'Portsmouth': ['WY'], 'Reynoldsburg': ['WY'], 'Riverside': ['WY'], 'Springboro': ['WY'], 'Trotwood': ['WY'], 'Upper Arlington': ['WY'], 'Vandalia': ['WY'], 'Whitehall': ['WY'], 'Xenia': ['WY'], 'Zanesville': ['WY'], 'Ada': ['WY'], 'Altus': ['WY'], 'Ardmore': ['WY'], 'Bartlesville': ['WY'], 'Bethany': ['WY'], 'Bixby': ['WY'], 'Broken Arrow': ['WY'], 'Chickasha': ['WY'], 'Claremore': ['WY'], 'Del City': ['WY'], 'Duncan': ['WY'], 'Durant': ['WY'], 'Edmond': ['WY'], 'El Reno': ['WY'], 'Enid': ['WY'], 'Jenks': ['WY'], 'Lawton': ['WY'], 'McAlester': ['WY'], 'Midwest City': ['WY'], 'Moore': ['WY'], 'Muskogee': ['WY'], 'Mustang': ['WY'], 'Norman': ['WY'], 'Oklahoma City': ['WY'], 'Owasso': ['WY'], 'Ponca City': ['WY'], 'Sand Springs': ['WY'], 'Sapulpa': ['WY'], 'Stillwater': ['WY'], 'Tahlequah': ['WY'], 'Tulsa': ['WY'], 'Yukon': ['WY'], 'Chambersburg': ['WY'], 'Chester': ['WY'], 'Drexel Hill': ['WY'], 'Pennsport': ['WY'], 'Philadelphia': ['WY'], 'West Chester': ['WY'], 'Wharton': ['WY'], 'Whitman': ['WY'], 'York': ['WY'], 'Aiken': ['WY'], 'Anderson': ['WY'], 'Bluffton': ['WY'], 'Clemson': ['WY'], 'Easley': ['WY'], 'Goose Creek': ['WY'], 'Greer': ['WY'], 'Hanahan': ['WY'], 'Hilton Head Island': ['WY'], 'Hilton Head': ['WY'], 'Mauldin': ['WY'], 'Mount Pleasant': ['WY'], 'Myrtle Beach': ['WY'], 'North Augusta': ['WY'], 'North Charleston': ['WY'], 'North Myrtle Beach': ['WY'], 'Rock Hill': ['WY'], 'Saint Andrews': ['WY'], 'Seven Oaks': ['WY'], 'Simpsonville': ['WY'], 'Socastee': ['WY'], 'Spartanburg': ['WY'], 'Summerville': ['WY'], 'Sumter': ['WY'], 'Taylors': ['WY'], 'Wade Hampton': ['WY'], 'West Columbia': ['WY'], 'Bartlett': ['WY'], 'Brentwood': ['WY'], 'Brentwood Estates': ['WY'], 'Bristol': ['WY'], 'Chattanooga': ['WY'], 'Cleveland': ['WY'], 'Collierville': ['WY'], 'Cookeville': ['WY'], 'Dickson': ['WY'], 'Dyersburg': ['WY'], 'East Brainerd': ['WY'], 'East Chattanooga': ['WY'], 'East Ridge': ['WY'], 'Ellendale': ['WY'], 'Farragut': ['WY'], 'Franklin': ['WY'], 'Gallatin': ['WY'], 'Goodlettsville': ['WY'], 'Greeneville': ['WY'], 'Hendersonville': ['WY'], 'Hermitage': ['WY'], 'Johnson City': ['WY'], 'Kingsport': ['WY'], 'Knoxville': ['WY'], 'La Vergne': ['WY'], 'Maryville': ['WY'], 'Memphis': ['WY'], 'Morristown': ['WY'], 'Mount Juliet': ['WY'], 'Murfreesboro': ['WY'], 'Nashville': ['WY'], 'New South Memphis': ['WY'], 'Sevierville': ['WY'], 'Tullahoma': ['WY'], 'Abilene': ['WY'], 'Addison': ['WY'], 'Alamo': ['WY'], 'Aldine': ['WY'], 'Alice': ['WY'], 'Alief': ['WY'], 'Allen': ['WY'], 'Alvin': ['WY'], 'Angleton': ['WY'], 'Arlington': ['WY'], 'Atascocita': ['WY'], 'Austin': ['WY'], 'Balch Springs': ['WY'], 'Baytown': ['WY'], 'Beaumont': ['WY'], 'Bedford': ['WY'], 'Bellaire': ['WY'], 'Benbrook': ['WY'], 'Brenham': ['WY'], 'Brownwood': ['WY'], 'Brushy Creek': ['WY'], 'Bryan': ['WY'], 'Burleson': ['WY'], 'Canyon Lake': ['WY'], 'Cedar Hill': ['WY'], 'Cedar Park': ['WY'], 'Channelview': ['WY'], 'Cibolo': ['WY'], 'Cinco Ranch': ['WY'], 'Cleburne': ['WY'], 'Cloverleaf': ['WY'], 'College Station': ['WY'], 'Colleyville': ['WY'], 'Conroe': ['WY'], 'Converse': ['WY'], 'Coppell': ['WY'], 'Copperas Cove': ['WY'], 'Corinth': ['WY'], 'Corpus Christi': ['WY'], 'Corsicana': ['WY'], 'Cypress': ['WY'], 'Dallas': ['WY'], 'DeSoto': ['WY'], 'Deer Park': ['WY'], 'Denison': ['WY'], 'Denton': ['WY'], 'Dickinson': ['WY'], 'Donna': ['WY'], 'Duncanville': ['WY'], 'Edinburg': ['WY'], 'Ennis': ['WY'], 'Euless': ['WY'], 'Farmers Branch': ['WY'], 'Flower Mound': ['WY'], 'Forney': ['WY'], 'Fort Worth': ['WY'], 'Fresno': ['WY'], 'Friendswood': ['WY'], 'Frisco': ['WY'], 'Galveston': ['WY'], 'Garland': ['WY'], 'Gatesville': ['WY'], 'Grand Prairie': ['WY'], 'Grapevine': ['WY'], 'Groves': ['WY'], 'Haltom City': ['WY'], 'Harker Heights': ['WY'], 'Harlingen': ['WY'], 'Highland Village': ['WY'], 'Houston': ['WY'], 'Humble': ['WY'], 'Hurst': ['WY'], 'Hutto': ['WY'], 'Irving': ['WY'], 'Jollyville': ['WY'], 'Katy': ['WY'], 'Keller': ['WY'], 'Kerrville': ['WY'], 'Killeen': ['WY'], 'Kingsville': ['WY'], 'Kyle': ['WY'], 'La Marque': ['WY'], 'La Porte': ['WY'], 'Lake Jackson': ['WY'], 'Laredo': ['WY'], 'League City': ['WY'], 'Leander': ['WY'], 'Lewisville': ['WY'], 'Little Elm': ['WY'], 'Live Oak': ['WY'], 'Longview': ['WY'], 'Lufkin': ['WY'], 'Mansfield': ['WY'], 'Marshall': ['WY'], 'McAllen': ['WY'], 'McKinney': ['WY'], 'Mercedes': ['WY'], 'Mesquite': ['WY'], 'Midlothian': ['WY'], 'Mission': ['WY'], 'Mission Bend': ['WY'], 'Missouri City': ['WY'], 'Murphy': ['WY'], 'Nacogdoches': ['WY'], 'Nederland': ['WY'], 'New Braunfels': ['WY'], 'New Territory': ['WY'], 'North Richland Hills': ['WY'], 'Orange': ['WY'], 'Palestine': ['WY'], 'Paris': ['WY'], 'Pearland': ['WY'], 'Pecan Grove': ['WY'], 'Pflugerville': ['WY'], 'Pharr': ['WY'], 'Plano': ['WY'], 'Port Arthur': ['WY'], 'Portland': ['WY'], 'Prosper': ['WY'], 'Richardson': ['WY'], 'Rockwall': ['WY'], 'Rosenberg': ['WY'], 'Round Rock': ['WY'], 'Rowlett': ['WY'], 'Sachse': ['WY'], 'Saginaw': ['WY'], 'San Antonio': ['WY'], 'San Benito': ['WY'], 'San Juan': ['WY'], 'San Marcos': ['WY'], 'Schertz': ['WY'], 'Seagoville': ['WY'], 'Seguin': ['WY'], 'Sherman': ['WY'], 'South Houston': ['WY'], 'Southlake': ['WY'], 'Spring': ['WY'], 'Stafford': ['WY'], 'Stephenville': ['WY'], 'Sugar Land': ['WY'], 'Sulphur Springs': ['WY'], 'Taylor': ['WY'], 'Temple': ['WY'], 'Terrell': ['WY'], 'Texas City': ['WY'], 'The Colony': ['WY'], 'The Woodlands': ['WY'], 'Tyler': ['WY'], 'Universal City': ['WY'], 'Uvalde': ['WY'], 'Victoria': ['WY'], 'Waco': ['WY'], 'Watauga': ['WY'], 'Waxahachie': ['WY'], 'Weatherford': ['WY'], 'Weslaco': ['WY'], 'West University Place': ['WY'], 'White Settlement': ['WY'], 'Wichita Falls': ['WY'], 'Wylie': ['WY'], 'Annandale': ['WY'], 'Ashburn': ['WY'], 'Baileys Crossroads': ['WY'], 'Blacksburg': ['WY'], 'Bon Air': ['WY'], 'Buckhall': ['WY'], 'Burke': ['WY'], 'Cave Spring': ['WY'], 'Centreville': ['WY'], 'Chantilly': ['WY'], 'Charlottesville': ['WY'], 'Chesapeake': ['WY'], 'Christiansburg': ['WY'], 'Colonial Heights': ['WY'], 'Culpeper': ['WY'], 'Dale City': ['WY'], 'East Hampton': ['WY'], 'Fairfax': ['WY'], 'Franconia': ['WY'], 'Fredericksburg': ['WY'], 'Front Royal': ['WY'], 'Great Falls': ['WY'], 'Hampton': ['WY'], 'Harrisonburg': ['WY'], 'Herndon': ['WY'], 'Highland Springs': ['WY'], 'Hopewell': ['WY'], 'Hybla Valley': ['WY'], 'Idylwood': ['WY'], 'Lake Ridge': ['WY'], 'Lincolnia': ['WY'], 'Linton Hall': ['WY'], 'Lorton': ['WY'], 'Lynchburg': ['WY'], 'Manassas': ['WY'], 'Manassas Park': ['WY'], 'McLean': ['WY'], 'Mechanicsville': ['WY'], 'Merrifield': ['WY'], 'Montclair': ['WY'], 'Newport News': ['WY'], 'Norfolk': ['WY'], 'Oakton': ['WY'], 'Petersburg': ['WY'], 'Portsmouth Heights': ['WY'], 'Radford': ['WY'], 'Reston': ['WY'], 'Roanoke': ['WY'], 'Rose Hill': ['WY'], 'Salem': ['WY'], 'Short Pump': ['WY'], 'South Riding': ['WY'], 'South Suffolk': ['WY'], 'Staunton': ['WY'], 'Sterling': ['WY'], 'Sudley': ['WY'], 'Suffolk': ['WY'], 'Tuckahoe': ['WY'], 'Tysons Corner': ['WY'], 'Vienna': ['WY'], 'Virginia Beach': ['WY'], 'Waynesboro': ['WY'], 'West Lynchburg': ['WY'], 'West Springfield': ['WY'], 'Williamsburg': ['WY'], 'Wolf Trap': ['WY'], 'Beckley': ['WY'], 'Clarksburg': ['WY'], 'Fairmont': ['WY'], 'Huntington': ['WY'], 'Martinsburg': ['WY'], 'Morgantown': ['WY'], 'Parkersburg': ['WY'], 'Sherwood': ['WY'], 'Chillicothe': ['WY'], 'Bay City': ['WY'], 'Alabaster': ['WY'], 'Albertville': ['WY'], 'Anniston': ['WY'], 'Auburn': ['WY'], 'Glendale Heights': ['WY'], 'North Andover': ['WY'], 'Revere': ['WY'], 'Danbury': ['WY'], 'Darien': ['WY'], 'Inkster': ['WY'], 'Cleveland Heights': ['WY'], 'East Hartford': ['WY'], 'East Haven': ['WY'], 'East Norwalk': ['WY'], 'Enfield': ['WY'], 'Glastonbury': ['WY'], 'Guilford': ['WY'], 'Hamden': ['WY'], 'Hartford': ['WY'], 'Killingly Center': ['WY'], 'Ledyard': ['WY'], 'Mansfield City': ['WY'], 'Meriden': ['WY'], 'Milford': ['WY'], 'Montville Center': ['WY'], 'Naugatuck': ['WY'], 'New Britain': ['WY'], 'New Canaan': ['WY'], 'New Haven': ['WY'], 'New London': ['WY'], 'Newington': ['WY'], 'North Haven': ['WY'], 'North Stamford': ['WY'], 'Norwalk': ['WY'], 'Norwich': ['WY'], 'Plainville': ['WY'], 'Shelton': ['WY'], 'South Windsor': ['WY'], 'Southbury': ['WY'], 'Stamford': ['WY'], 'Storrs': ['WY'], 'Stratford': ['WY'], 'Torrington': ['WY'], 'Trumbull': ['WY'], 'Wallingford': ['WY'], 'Waterbury': ['WY'], 'West Hartford': ['WY'], 'West Haven': ['WY'], 'West Torrington': ['WY'], 'Westport': ['WY'], 'Wethersfield': ['WY'], 'Willimantic': ['WY'], 'Wilton': ['WY'], 'Windham': ['WY'], 'Windsor': ['WY'], 'Wolcott': ['WY'], 'Altoona': ['WY'], 'Ames': ['WY'], 'Ankeny': ['WY'], 'Bettendorf': ['WY'], 'Cedar Falls': ['WY'], 'Cedar Rapids': ['WY'], 'Clive': ['WY'], 'Coralville': ['WY'], 'Council Bluffs': ['WY'], 'Davenport': ['WY'], 'Des Moines': ['WY'], 'Dubuque': ['WY'], 'Fort Dodge': ['WY'], 'Indianola': ['WY'], 'Iowa City': ['WY'], 'Johnston': ['WY'], 'Marshalltown': ['WY'], 'Mason City': ['WY'], 'Muscatine': ['WY'], 'North Liberty': ['WY'], 'Ottumwa': ['WY'], 'Sioux City': ['WY'], 'Urbandale': ['WY'], 'Waterloo': ['WY'], 'Waukee': ['WY'], 'West Des Moines': ['WY'], 'Albany Park': ['WY'], 'Algonquin': ['WY'], 'Alsip': ['WY'], 'Arlington Heights': ['WY'], 'Aurora': ['WY'], 'Avondale': ['WY'], 'Batavia': ['WY'], 'Bellwood': ['WY'], 'Belmont Cragin': ['WY'], 'Belvidere': ['WY'], 'Bensenville': ['WY'], 'Berwyn': ['WY'], 'Blue Island': ['WY'], 'Bolingbrook': ['WY'], 'Bourbonnais': ['WY'], 'Bradley': ['WY'], 'Bridgeport': ['WY'], 'Bridgeview': ['WY'], 'Brighton Park': ['WY'], 'Brookfield': ['WY'], 'Buffalo Grove': ['WY'], 'Burbank': ['WY'], 'Calumet City': ['WY'], 'Carol Stream': ['WY'], 'Carpentersville': ['WY'], 'Champaign': ['WY'], 'Chatham': ['WY'], 'Chicago': ['WY'], 'Chicago Heights': ['WY'], 'Chicago Lawn': ['WY'], 'Cicero': ['WY'], 'Country Club Hills': ['WY'], 'Crest Hill': ['WY'], 'Crystal Lake': ['WY'], 'DeKalb': ['WY'], 'Deerfield': ['WY'], 'Des Plaines': ['WY'], 'Dixon': ['WY'], 'Dolton': ['WY'], 'Douglas': ['WY'], 'Downers Grove': ['WY'], 'East Garfield Park': ['WY'], 'East Moline': ['WY'], 'East Peoria': ['WY'], 'Elgin': ['WY'], 'Elk Grove Village': ['WY'], 'Elmhurst': ['WY'], 'Elmwood Park': ['WY'], 'Englewood': ['WY'], 'Evanston': ['WY'], 'Evergreen Park': ['WY'], 'Franklin Park': ['WY'], 'Freeport': ['WY'], 'Gage Park': ['WY'], 'Galesburg': ['WY'], 'Geneva': ['WY'], 'Glen Ellyn': ['WY'], 'Glenview': ['WY'], 'Goodings Grove': ['WY'], 'Grand Boulevard': ['WY'], 'Grayslake': ['WY'], 'Gurnee': ['WY'], 'Hanover Park': ['WY'], 'Highland Park': ['WY'], 'Hinsdale': ['WY'], 'Hoffman Estates': ['WY'], 'Homer Glen': ['WY'], 'Huntley': ['WY'], 'Hyde Park': ['WY'], 'Irving Park': ['WY'], 'Joliet': ['WY'], 'Kankakee': ['WY'], 'Kenwood': ['WY'], 'La Grange': ['WY'], 'Lake Forest': ['WY'], 'Lake Zurich': ['WY'], 'Lake in the Hills': ['WY'], 'Lansing': ['WY'], 'Lemont': ['WY'], 'Libertyville': ['WY'], 'Lincoln Park': ['WY'], 'Lincoln Square': ['WY'], 'Lisle': ['WY'], 'Lockport': ['WY'], 'Logan Square': ['WY'], 'Lombard': ['WY'], 'Loves Park': ['WY'], 'Lower West Side': ['WY'], 'Machesney Park': ['WY'], 'Macomb': ['WY'], 'Matteson': ['WY'], 'Maywood': ['WY'], 'McHenry': ['WY'], 'McKinley Park': ['WY'], 'Melrose Park': ['WY'], 'Mokena': ['WY'], 'Moline': ['WY'], 'Morgan Park': ['WY'], 'Morton': ['WY'], 'Morton Grove': ['WY'], 'Mount Greenwood': ['WY'], 'Mount Prospect': ['WY'], 'Mundelein': ['WY'], 'Naperville': ['WY'], 'Near North Side': ['WY'], 'Near South Side': ['WY'], 'New City': ['WY'], 'New Lenox': ['WY'], 'Niles': ['WY'], 'Normal': ['WY'], 'North Aurora': ['WY'], 'North Center': ['WY'], 'North Chicago': ['WY'], 'North Lawndale': ['WY'], 'North Peoria': ['WY'], 'Northbrook': ['WY'], 'Oak Forest': ['WY'], 'Oak Lawn': ['WY'], 'Oak Park': ['WY'], 'Orland Park': ['WY'], 'Oswego': ['WY'], 'Ottawa': ['WY'], 'Palatine': ['WY'], 'Palos Hills': ['WY'], 'Park Forest': ['WY'], 'Park Ridge': ['WY'], 'Pekin': ['WY'], 'Peoria': ['WY'], 'Portage Park': ['WY'], 'Prospect Heights': ['WY'], 'Rock Island': ['WY'], 'Rockford': ['WY'], 'Rogers Park': ['WY'], 'Rolling Meadows': ['WY'], 'Romeoville': ['WY'], 'Roselle': ['WY'], 'Round Lake': ['WY'], 'Round Lake Beach': ['WY'], 'St. Charles': ['WY'], 'Schaumburg': ['WY'], 'Shorewood': ['WY'], 'Skokie': ['WY'], 'South Chicago': ['WY'], 'South Elgin': ['WY'], 'South Holland': ['WY'], 'South Lawndale': ['WY'], 'South Shore': ['WY'], 'Streamwood': ['WY'], 'Sycamore': ['WY'], 'Tinley Park': ['WY'], 'Uptown': ['WY'], 'Urbana': ['WY'], 'Vernon Hills': ['WY'], 'Villa Park': ['WY'], 'Wasco': ['WY'], 'Waukegan': ['WY'], 'West Chicago': ['WY'], 'West Elsdon': ['WY'], 'West Englewood': ['WY'], 'West Garfield Park': ['WY'], 'West Lawn': ['WY'], 'West Ridge': ['WY'], 'West Town': ['WY'], 'Westmont': ['WY'], 'Wheeling': ['WY'], 'Wilmette': ['WY'], 'Woodridge': ['WY'], 'Yorkville': ['WY'], 'Zion': ['WY'], 'Crawfordsville': ['WY'], 'Crown Point': ['WY'], 'Dyer': ['WY'], 'East Chicago': ['WY'], 'Elkhart': ['WY'], 'Fort Wayne': ['WY'], 'Gary': ['WY'], 'Goshen': ['WY'], 'Granger': ['WY'], 'Griffith': ['WY'], 'Highland': ['WY'], 'Hobart': ['WY'], 'Kokomo': ['WY'], 'LaPorte': ['WY'], 'Logansport': ['WY'], 'Merrillville': ['WY'], 'Michigan City': ['WY'], 'Mishawaka': ['WY'], 'Muncie': ['WY'], 'Munster': ['WY'], 'Noblesville': ['WY'], 'Portage': ['WY'], 'Schererville': ['WY'], 'South Bend': ['WY'], 'Valparaiso': ['WY'], 'West Lafayette': ['WY'], 'Westfield': ['WY'], 'Abington': ['WY'], 'Acton': ['WY'], 'Agawam': ['WY'], 'Amesbury': ['WY'], 'Amherst': ['WY'], 'Amherst Center': ['WY'], 'Attleboro': ['WY'], 'Barnstable': ['WY'], 'Belmont': ['WY'], 'Beverly': ['WY'], 'Beverly Cove': ['WY'], 'Billerica': ['WY'], 'Boston': ['WY'], 'Brockton': ['WY'], 'Brookline': ['WY'], 'Cambridge': ['WY'], 'Chelmsford': ['WY'], 'Chelsea': ['WY'], 'Chicopee': ['WY'], 'Danvers': ['WY'], 'Dedham': ['WY'], 'Dracut': ['WY'], 'Duxbury': ['WY'], 'East Longmeadow': ['WY'], 'Easthampton': ['WY'], 'Everett': ['WY'], 'Fairhaven': ['WY'], 'Fall River': ['WY'], 'Fitchburg': ['WY'], 'Framingham': ['WY'], 'Framingham Center': ['WY'], 'Gloucester': ['WY'], 'Grafton': ['WY'], 'Haverhill': ['WY'], 'Holden': ['WY'], 'Holyoke': ['WY'], 'Jamaica Plain': ['WY'], 'Leominster': ['WY'], 'Longmeadow': ['WY'], 'Lowell': ['WY'], 'Ludlow': ['WY'], 'Lynn': ['WY'], 'Malden': ['WY'], 'Marblehead': ['WY'], 'Marlborough': ['WY'], 'Medford': ['WY'], 'Melrose': ['WY'], 'Methuen': ['WY'], 'Middleborough': ['WY'], 'Milton': ['WY'], 'Natick': ['WY'], 'Needham': ['WY'], 'New Bedford': ['WY'], 'Newburyport': ['WY'], 'North Chicopee': ['WY'], 'Northampton': ['WY'], 'Norton': ['WY'], 'Palmer': ['WY'], 'Peabody': ['WY'], 'Pittsfield': ['WY'], 'Randolph': ['WY'], 'Reading': ['WY'], 'Rockland': ['WY'], 'Saugus': ['WY'], 'Shrewsbury': ['WY'], 'Somerset': ['WY'], 'Somerville': ['WY'], 'South Boston': ['WY'], 'South Hadley': ['WY'], 'South Peabody': ['WY'], 'Southbridge': ['WY'], 'Stoneham': ['WY'], 'Stoughton': ['WY'], 'Sudbury': ['WY'], 'Swansea': ['WY'], 'Taunton': ['WY'], 'Tewksbury': ['WY'], 'Wakefield': ['WY'], 'Waltham': ['WY'], 'Watertown': ['WY'], 'Wellesley': ['WY'], 'Westford': ['WY'], 'Weymouth': ['WY'], 'Winthrop': ['WY'], 'Woburn': ['WY'], 'Worcester': ['WY'], 'Yarmouth': ['WY'], 'Bangor': ['WY'], 'Biddeford': ['WY'], 'Lewiston': ['WY'], 'Saco': ['WY'], 'South Portland': ['WY'], 'South Portland Gardens': ['WY'], 'Waterville': ['WY'], 'West Scarborough': ['WY'], 'Westbrook': ['WY'], 'Adrian': ['WY'], 'Allen Park': ['WY'], 'Allendale': ['WY'], 'Ann Arbor': ['WY'], 'Auburn Hills': ['WY'], 'Battle Creek': ['WY'], 'Berkley': ['WY'], 'Burton': ['WY'], 'Clinton Township': ['WY'], 'Dearborn': ['WY'], 'Dearborn Heights': ['WY'], 'Detroit': ['WY'], 'East Lansing': ['WY'], 'Eastpointe': ['WY'], 'Farmington Hills': ['WY'], 'Flint': ['WY'], 'Forest Hills': ['WY'], 'Garden City': ['WY'], 'Grand Rapids': ['WY'], 'Grandville': ['WY'], 'Grosse Pointe Woods': ['WY'], 'Hamtramck': ['WY'], 'Haslett': ['WY'], 'Hazel Park': ['WY'], 'Holland': ['WY'], 'Holt': ['WY'], 'Jenison': ['WY'], 'Kalamazoo': ['WY'], 'Kentwood': ['WY'], 'Livonia': ['WY'], 'Madison Heights': ['WY'], 'Marquette': ['WY'], 'Midland': ['WY'], 'Mount Clemens': ['WY'], 'Muskegon': ['WY'], 'Norton Shores': ['WY'], 'Novi': ['WY'], 'Okemos': ['WY'], 'Pontiac': ['WY'], 'Port Huron': ['WY'], 'Redford': ['WY'], 'Rochester Hills': ['WY'], 'Romulus': ['WY'], 'Roseville': ['WY'], 'Royal Oak': ['WY'], 'Southfield': ['WY'], 'Southgate': ['WY'], 'Saint Clair Shores': ['WY'], 'Sterling Heights': ['WY'], 'Traverse City': ['WY'], 'Trenton': ['WY'], 'Walker': ['WY'], 'Warren': ['WY'], 'Waterford': ['WY'], 'Waverly': ['WY'], 'Wayne': ['WY'], 'Westland': ['WY'], 'Wyandotte': ['WY'], 'Wyoming': ['WY'], 'Ypsilanti': ['WY'], 'Albert Lea': ['WY'], 'Andover': ['WY'], 'Anoka': ['WY'], 'Apple Valley': ['WY'], 'Blaine': ['WY'], 'Brooklyn Center': ['WY'], 'Brooklyn Park': ['WY'], 'Buffalo': ['WY'], 'Burnsville': ['WY'], 'Champlin': ['WY'], 'Chanhassen': ['WY'], 'Chaska': ['WY'], 'Columbia Heights': ['WY'], 'Coon Rapids': ['WY'], 'Cottage Grove': ['WY'], 'Crystal': ['WY'], 'Eagan': ['WY'], 'Eden Prairie': ['WY'], 'Edina': ['WY'], 'Elk River': ['WY'], 'Faribault': ['WY'], 'Forest Lake': ['WY'], 'Fridley': ['WY'], 'Golden Valley': ['WY'], 'Ham Lake': ['WY'], 'Hastings': ['WY'], 'Hibbing': ['WY'], 'Hopkins': ['WY'], 'Inver Grove Heights': ['WY'], 'Lakeville': ['WY'], 'Lino Lakes': ['WY'], 'Mankato': ['WY'], 'Maple Grove': ['WY'], 'Maplewood': ['WY'], 'Minneapolis': ['WY'], 'Minnetonka': ['WY'], 'Minnetonka Mills': ['WY'], 'Moorhead': ['WY'], 'New Brighton': ['WY'], 'New Hope': ['WY'], 'Northfield': ['WY'], 'Oakdale': ['WY'], 'Otsego': ['WY'], 'Owatonna': ['WY'], 'Plymouth': ['WY'], 'Prior Lake': ['WY'], 'Ramsey': ['WY'], 'Red Wing': ['WY'], 'Richfield': ['WY'], 'Rochester': ['WY'], 'Rosemount': ['WY'], 'Saint Louis Park': ['WY'], 'Saint Michael': ['WY'], 'Saint Paul': ['WY'], 'Sartell': ['WY'], 'Savage': ['WY'], 'Shakopee': ['WY'], 'Shoreview': ['WY'], 'South Saint Paul': ['WY'], 'West Coon Rapids': ['WY'], 'West Saint Paul': ['WY'], 'White Bear Lake': ['WY'], 'Willmar': ['WY'], 'Winona': ['WY'], 'Woodbury': ['WY'], 'Kirksville': ['WY'], 'Fargo': ['WY'], 'Grand Forks': ['WY'], 'Jamestown': ['WY'], 'West Fargo': ['WY'], 'Bellevue': ['WY'], 'Fremont': ['WY'], 'Grand Island': ['WY'], 'Kearney': ['WY'], 'La Vista': ['WY'], 'Lincoln': ['WY'], 'Omaha': ['WY'], 'Papillion': ['WY'], 'Derry': ['WY'], 'Derry Village': ['WY'], 'East Concord': ['WY'], 'Keene': ['WY'], 'Laconia': ['WY'], 'Merrimack': ['WY'], 'Nashua': ['WY'], 'Asbury Park': ['WY'], 'Avenel': ['WY'], 'Basking Ridge': ['WY'], 'Bayonne': ['WY'], 'Bergenfield': ['WY'], 'Bloomfield': ['WY'], 'Carteret': ['WY'], 'Cliffside Park': ['WY'], 'Clifton': ['WY'], 'Colonia': ['WY'], 'Cranford': ['WY'], 'Denville': ['WY'], 'Dumont': ['WY'], 'East Brunswick': ['WY'], 'East Orange': ['WY'], 'Edison': ['WY'], 'Elizabeth': ['WY'], 'Ewing': ['WY'], 'Fair Lawn': ['WY'], 'Fords': ['WY'], 'Fort Lee': ['WY'], 'Garfield': ['WY'], 'Hackensack': ['WY'], 'Harrison': ['WY'], 'Hawthorne': ['WY'], 'Hillsborough': ['WY'], 'Hillside': ['WY'], 'Hoboken': ['WY'], 'Hopatcong Hills': ['WY'], 'Irvington': ['WY'], 'Iselin': ['WY'], 'Jersey City': ['WY'], 'Kearny': ['WY'], 'Lakewood': ['WY'], 'Linden': ['WY'], 'Livingston': ['WY'], 'Lodi': ['WY'], 'Long Branch': ['WY'], 'Lyndhurst': ['WY'], 'Mahwah': ['WY'], 'Marlboro': ['WY'], 'New Brunswick': ['WY'], 'New Milford': ['WY'], 'North Arlington': ['WY'], 'North Bergen': ['WY'], 'North Plainfield': ['WY'], 'Nutley': ['WY'], 'Old Bridge': ['WY'], 'Palisades Park': ['WY'], 'Paramus': ['WY'], 'Parsippany': ['WY'], 'Passaic': ['WY'], 'Paterson': ['WY'], 'Perth Amboy': ['WY'], 'Piscataway': ['WY'], 'Point Pleasant': ['WY'], 'Rahway': ['WY'], 'Ridgewood': ['WY'], 'Rutherford': ['WY'], 'Sayreville': ['WY'], 'Sayreville Junction': ['WY'], 'Scotch Plains': ['WY'], 'Secaucus': ['WY'], 'South Old Bridge': ['WY'], 'South Orange': ['WY'], 'South Plainfield': ['WY'], 'South River': ['WY'], 'Sparta': ['WY'], 'Summit': ['WY'], 'Teaneck': ['WY'], 'Tinton Falls': ['WY'], 'Union': ['WY'], 'Voorhees': ['WY'], 'West Milford': ['WY'], 'West New York': ['WY'], 'West Orange': ['WY'], 'Willingboro': ['WY'], 'Woodbridge': ['WY'], 'Wyckoff': ['WY'], 'Amsterdam': ['WY'], 'Astoria': ['WY'], 'Baldwin': ['WY'], 'Bath Beach': ['WY'], 'Bay Shore': ['WY'], 'Baychester': ['WY'], 'Bayside': ['WY'], 'Bellmore': ['WY'], 'Bensonhurst': ['WY'], 'Bethpage': ['WY'], 'Binghamton': ['WY'], 'Borough Park': ['WY'], 'Brighton': ['WY'], 'Brighton Beach': ['WY'], 'The Bronx': ['WY'], 'Brooklyn': ['WY'], 'Brooklyn Heights': ['WY'], 'Bushwick': ['WY'], 'Cambria Heights': ['WY'], 'Canarsie': ['WY'], 'Centereach': ['WY'], 'Central Islip': ['WY'], 'Cheektowaga': ['WY'], 'Chinatown': ['WY'], 'Clay': ['WY'], 'Clifton Park': ['WY'], 'Cohoes': ['WY'], 'College Point': ['WY'], 'Commack': ['WY'], 'Coney Island': ['WY'], 'Copiague': ['WY'], 'Coram': ['WY'], 'Corona': ['WY'], 'Cortland': ['WY'], 'Cypress Hills': ['WY'], 'Depew': ['WY'], 'Dix Hills': ['WY'], 'Dyker Heights': ['WY'], 'East Amherst': ['WY'], 'East Elmhurst': ['WY'], 'East Flatbush': ['WY'], 'East Meadow': ['WY'], 'East Massapequa': ['WY'], 'East New York': ['WY'], 'East Northport': ['WY'], 'East Patchogue': ['WY'], 'East Setauket': ['WY'], 'East Tremont': ['WY'], 'East Village': ['WY'], 'Eastchester': ['WY'], 'Eggertsville': ['WY'], 'Elmira': ['WY'], 'Elmont': ['WY'], 'Emerson Hill': ['WY'], 'Far Rockaway': ['WY'], 'Farmingville': ['WY'], 'Flatbush': ['WY'], 'Flatlands': ['WY'], 'Floral Park': ['WY'], 'Fordham': ['WY'], 'Fort Hamilton': ['WY'], 'Franklin Square': ['WY'], 'Fresh Meadows': ['WY'], 'Glen Cove': ['WY'], 'Glendale': ['WY'], 'Gloversville': ['WY'], 'Graniteville': ['WY'], 'Gravesend': ['WY'], 'Great Kills': ['WY'], 'Greenburgh': ['WY'], 'Greenpoint': ['WY'], 'Harlem': ['WY'], 'Hauppauge': ['WY'], \"Hell's Kitchen\": ['WY'], 'Hempstead': ['WY'], 'Henrietta': ['WY'], 'Hicksville': ['WY'], 'Holbrook': ['WY'], 'Hollis': ['WY'], 'Holtsville': ['WY'], 'Howard Beach': ['WY'], 'Huntington Station': ['WY'], 'Hunts Point': ['WY'], 'Irondequoit': ['WY'], 'Islip': ['WY'], 'Ithaca': ['WY'], 'Jackson Heights': ['WY'], 'Jamaica': ['WY'], 'Kenmore': ['WY'], 'Kensington': ['WY'], 'Kew Gardens': ['WY'], 'Kings Bridge': ['WY'], 'Kings Park': ['WY'], 'Kingston': ['WY'], 'Kiryas Joel': ['WY'], 'Lackawanna': ['WY'], 'Lake Ronkonkoma': ['WY'], 'Latham': ['WY'], 'Laurelton': ['WY'], 'Levittown': ['WY'], 'Lindenhurst': ['WY'], 'Long Island City': ['WY'], 'Lynbrook': ['WY'], 'Mamaroneck': ['WY'], 'Mariners Harbor': ['WY'], 'Maspeth': ['WY'], 'Massapequa': ['WY'], 'Massapequa Park': ['WY'], 'Mastic': ['WY'], 'Melville': ['WY'], 'Merrick': ['WY'], 'Middle Village': ['WY'], 'Mineola': ['WY'], 'Monsey': ['WY'], 'Morris Heights': ['WY'], 'Morrisania': ['WY'], 'Mott Haven': ['WY'], 'Nanuet': ['WY'], 'New Rochelle': ['WY'], 'New Springville': ['WY'], 'New York City': ['WY'], 'Newburgh': ['WY'], 'Niagara Falls': ['WY'], 'North Amityville': ['WY'], 'North Babylon': ['WY'], 'North Bay Shore': ['WY'], 'North Bellmore': ['WY'], 'North Massapequa': ['WY'], 'North Tonawanda': ['WY'], 'North Valley Stream': ['WY'], 'Oceanside': ['WY'], 'Ossining': ['WY'], 'Ozone Park': ['WY'], 'Park Slope': ['WY'], 'Parkchester': ['WY'], 'Pearl River': ['WY'], 'Peekskill': ['WY'], 'Plainview': ['WY'], 'Plattsburgh': ['WY'], 'Port Chester': ['WY'], 'Port Richmond': ['WY'], 'Port Washington': ['WY'], 'Poughkeepsie': ['WY'], 'Queens Village': ['WY'], 'Queens': ['WY'], 'Queensbury': ['WY'], 'Rego Park': ['WY'], 'Richmond Hill': ['WY'], 'Rockville Centre': ['WY'], 'Ronkonkoma': ['WY'], 'Roosevelt': ['WY'], 'Rotterdam': ['WY'], 'Rye': ['WY'], 'Saratoga Springs': ['WY'], 'Sayville': ['WY'], 'Scarsdale': ['WY'], 'Schenectady': ['WY'], 'Seaford': ['WY'], 'Selden': ['WY'], 'Sheepshead Bay': ['WY'], 'Shirley': ['WY'], 'Smithtown': ['WY'], 'South Ozone Park': ['WY'], 'Springfield Gardens': ['WY'], 'Spring Valley': ['WY'], 'Staten Island': ['WY'], 'Sunnyside': ['WY'], 'Syosset': ['WY'], 'Syracuse': ['WY'], 'Terrace Heights': ['WY'], 'Throgs Neck': ['WY'], 'Tremont': ['WY'], 'Uniondale': ['WY'], 'Unionport': ['WY'], 'University Heights': ['WY'], 'Utica': ['WY'], 'Valley Stream': ['WY'], 'Van Nest': ['WY'], 'Vestal': ['WY'], 'Wantagh': ['WY'], 'Washington Heights': ['WY'], 'West Albany': ['WY'], 'West Babylon': ['WY'], 'West Hempstead': ['WY'], 'West Islip': ['WY'], 'West Seneca': ['WY'], 'Westbury': ['WY'], 'White Plains': ['WY'], 'Whitestone': ['WY'], 'Woodhaven': ['WY'], 'Woodmere': ['WY'], 'Woodrow': ['WY'], 'Woodside': ['WY'], 'Yonkers': ['WY'], 'Akron': ['WY'], 'Alliance': ['WY'], 'Ashtabula': ['WY'], 'Austintown': ['WY'], 'Avon Center': ['WY'], 'Avon Lake': ['WY'], 'Barberton': ['WY'], 'Bay Village': ['WY'], 'Berea': ['WY'], 'Boardman': ['WY'], 'Broadview Heights': ['WY'], 'Brook Park': ['WY'], 'Collinwood': ['WY'], 'Cuyahoga Falls': ['WY'], 'Defiance': ['WY'], 'Delaware': ['WY'], 'East Cleveland': ['WY'], 'Eastlake': ['WY'], 'Elyria': ['WY'], 'Euclid': ['WY'], 'Fairview Park': ['WY'], 'Findlay': ['WY'], 'Gahanna': ['WY'], 'Garfield Heights': ['WY'], 'Glenville': ['WY'], 'Green': ['WY'], 'Hilliard': ['WY'], 'Hough': ['WY'], 'Hudson': ['WY'], 'Kent': ['WY'], 'Lima': ['WY'], 'Lorain': ['WY'], 'Maple Heights': ['WY'], 'Marysville': ['WY'], 'Massillon': ['WY'], 'Mayfield Heights': ['WY'], 'Medina': ['WY'], 'Mentor': ['WY'], 'Middleburg Heights': ['WY'], 'New Philadelphia': ['WY'], 'North Canton': ['WY'], 'North Olmsted': ['WY'], 'North Ridgeville': ['WY'], 'North Royalton': ['WY'], 'Oregon': ['WY'], 'Painesville': ['WY'], 'Parma': ['WY'], 'Parma Heights': ['WY'], 'Perrysburg': ['WY'], 'Piqua': ['WY'], 'Rocky River': ['WY'], 'Sandusky': ['WY'], 'Shaker Heights': ['WY'], 'Sidney': ['WY'], 'Solon': ['WY'], 'South Euclid': ['WY'], 'Steubenville': ['WY'], 'Stow': ['WY'], 'Streetsboro': ['WY'], 'Strongsville': ['WY'], 'Sylvania': ['WY'], 'Tallmadge': ['WY'], 'Tiffin': ['WY'], 'Toledo': ['WY'], 'Twinsburg': ['WY'], 'Wadsworth': ['WY'], 'Westerville': ['WY'], 'Westlake': ['WY'], 'Willoughby': ['WY'], 'Wooster': ['WY'], 'Youngstown': ['WY'], 'Allentown': ['WY'], 'Allison Park': ['WY'], 'Back Mountain': ['WY'], 'Bensalem': ['WY'], 'Bethel Park': ['WY'], 'Bethlehem': ['WY'], 'Carlisle': ['WY'], 'Erie': ['WY'], 'Harrisburg': ['WY'], 'Hazleton': ['WY'], 'Johnstown': ['WY'], 'King of Prussia': ['WY'], 'Lansdale': ['WY'], 'Limerick': ['WY'], 'McKeesport': ['WY'], 'Monroeville': ['WY'], 'Mount Lebanon': ['WY'], 'Murrysville': ['WY'], 'Nicetown-Tioga': ['WY'], 'Norristown': ['WY'], 'Penn Hills': ['WY'], 'Phoenixville': ['WY'], 'Pittsburgh': ['WY'], 'Plum': ['WY'], 'Pottstown': ['WY'], 'Radnor': ['WY'], 'Scranton': ['WY'], 'State College': ['WY'], 'Upper Saint Clair': ['WY'], 'West Mifflin': ['WY'], 'Whitehall Township': ['WY'], 'Wilkes-Barre': ['WY'], 'Wilkinsburg': ['WY'], 'Williamsport': ['WY'], 'Willow Grove': ['WY'], 'Barrington': ['WY'], 'Central Falls': ['WY'], 'Coventry': ['WY'], 'Cranston': ['WY'], 'East Providence': ['WY'], 'Narragansett': ['WY'], 'North Kingstown': ['WY'], 'North Providence': ['WY'], 'Pawtucket': ['WY'], 'Providence': ['WY'], 'Smithfield': ['WY'], 'Warwick': ['WY'], 'West Warwick': ['WY'], 'Westerly': ['WY'], 'Woonsocket': ['WY'], 'Brookings': ['WY'], 'Mitchell': ['WY'], 'Sioux Falls': ['WY'], 'Colchester': ['WY'], 'Rutland': ['WY'], 'South Burlington': ['WY'], 'Appleton': ['WY'], 'Ashwaubenon': ['WY'], 'Beaver Dam': ['WY'], 'Beloit': ['WY'], 'Caledonia': ['WY'], 'Cudahy': ['WY'], 'De Pere': ['WY'], 'Eau Claire': ['WY'], 'Fond du Lac': ['WY'], 'Green Bay': ['WY'], 'Howard': ['WY'], 'Janesville': ['WY'], 'Kaukauna': ['WY'], 'Kenosha': ['WY'], 'La Crosse': ['WY'], 'Manitowoc': ['WY'], 'Marshfield': ['WY'], 'Menasha': ['WY'], 'Menomonee Falls': ['WY'], 'Menomonie': ['WY'], 'Mequon': ['WY'], 'Middleton': ['WY'], 'Milwaukee': ['WY'], 'Muskego': ['WY'], 'Neenah': ['WY'], 'New Berlin': ['WY'], 'North La Crosse': ['WY'], 'Oak Creek': ['WY'], 'Oconomowoc': ['WY'], 'Onalaska': ['WY'], 'Oshkosh': ['WY'], 'Pleasant Prairie': ['WY'], 'Racine': ['WY'], 'River Falls': ['WY'], 'Sheboygan': ['WY'], 'South Milwaukee': ['WY'], 'Stevens Point': ['WY'], 'Sun Prairie': ['WY'], 'Superior': ['WY'], 'Waukesha': ['WY'], 'Wausau': ['WY'], 'Wauwatosa': ['WY'], 'West Allis': ['WY'], 'West Bend': ['WY'], 'Wisconsin Rapids': ['WY'], 'Weirton': ['WY'], 'Weirton Heights': ['WY'], 'Ansonia': ['WY'], 'Branford': ['WY'], 'Cheshire': ['WY'], 'Fillmore': ['WY'], 'Buckeye': ['WY'], 'Bullhead City': ['WY'], 'Casa Grande': ['WY'], 'Casas Adobes': ['WY'], 'Catalina Foothills': ['WY'], 'Chandler': ['WY'], 'Deer Valley': ['WY'], 'Drexel Heights': ['WY'], 'El Mirage': ['WY'], 'Eloy': ['WY'], 'Flagstaff': ['WY'], 'Flowing Wells': ['WY'], 'Fortuna Foothills': ['WY'], 'Fountain Hills': ['WY'], 'Gilbert': ['WY'], 'Goodyear': ['WY'], 'Green Valley': ['WY'], 'Kingman': ['WY'], 'Lake Havasu City': ['WY'], 'Marana': ['WY'], 'Maricopa': ['WY'], 'Maryvale': ['WY'], 'Mesa': ['WY'], 'Nogales': ['WY'], 'Oro Valley': ['WY'], 'Payson': ['WY'], 'Phoenix': ['WY'], 'Prescott': ['WY'], 'Prescott Valley': ['WY'], 'Queen Creek': ['WY'], 'Rio Rico': ['WY'], 'Sahuarita': ['WY'], 'San Luis': ['WY'], 'Scottsdale': ['WY'], 'Sierra Vista': ['WY'], 'Somerton': ['WY'], 'Sun City': ['WY'], 'Sun City West': ['WY'], 'Surprise': ['WY'], 'Tanque Verde': ['WY'], 'Tempe': ['WY'], 'Tempe Junction': ['WY'], 'Tucson': ['WY'], 'Yuma': ['WY'], 'Adelanto': ['WY'], 'Agoura': ['WY'], 'Agoura Hills': ['WY'], 'Alameda': ['WY'], 'Alhambra': ['WY'], 'Aliso Viejo': ['WY'], 'Altadena': ['WY'], 'Alum Rock': ['WY'], 'American Canyon': ['WY'], 'Anaheim': ['WY'], 'Antelope': ['WY'], 'Antioch': ['WY'], 'Arcadia': ['WY'], 'Arroyo Grande': ['WY'], 'Artesia': ['WY'], 'Arvin': ['WY'], 'Atascadero': ['WY'], 'Atwater': ['WY'], 'Avocado Heights': ['WY'], 'Azusa': ['WY'], 'Bakersfield': ['WY'], 'Baldwin Park': ['WY'], 'Banning': ['WY'], 'Barstow': ['WY'], 'Barstow Heights': ['WY'], 'Bay Point': ['WY'], 'Bell': ['WY'], 'Bell Gardens': ['WY'], 'Bellflower': ['WY'], 'Benicia': ['WY'], 'Berkeley': ['WY'], 'Beverly Hills': ['WY'], 'Blythe': ['WY'], 'Bostonia': ['WY'], 'Boyle Heights': ['WY'], 'Brawley': ['WY'], 'Brea': ['WY'], 'Buena Park': ['WY'], 'Burlingame': ['WY'], 'Calabasas': ['WY'], 'Calexico': ['WY'], 'Camarillo': ['WY'], 'Cameron Park': ['WY'], 'Campbell': ['WY'], 'Canoga Park': ['WY'], 'Canyon Country': ['WY'], 'Carlsbad': ['WY'], 'Carmichael': ['WY'], 'Carson': ['WY'], 'Castaic': ['WY'], 'Castro Valley': ['WY'], 'Cathedral City': ['WY'], 'Ceres': ['WY'], 'Cerritos': ['WY'], 'Chatsworth': ['WY'], 'Chico': ['WY'], 'Chino': ['WY'], 'Chino Hills': ['WY'], 'Chowchilla': ['WY'], 'Chula Vista': ['WY'], 'Citrus Heights': ['WY'], 'Claremont': ['WY'], 'Clearlake': ['WY'], 'Clovis': ['WY'], 'Coachella': ['WY'], 'Coalinga': ['WY'], 'Colton': ['WY'], 'Compton': ['WY'], 'Corcoran': ['WY'], 'Coronado': ['WY'], 'Costa Mesa': ['WY'], 'Covina': ['WY'], 'Culver City': ['WY'], 'Cupertino': ['WY'], 'Daly City': ['WY'], 'Dana Point': ['WY'], 'Davis': ['WY'], 'Delano': ['WY'], 'Desert Hot Springs': ['WY'], 'Diamond Bar': ['WY'], 'Dinuba': ['WY'], 'Downey': ['WY'], 'Duarte': ['WY'], 'East Rancho Dominguez': ['WY'], 'East Hemet': ['WY'], 'East Los Angeles': ['WY'], 'East Palo Alto': ['WY'], 'El Cajon': ['WY'], 'El Centro': ['WY'], 'El Cerrito': ['WY'], 'El Dorado Hills': ['WY'], 'El Monte': ['WY'], 'El Segundo': ['WY'], 'Elk Grove': ['WY'], 'Encinitas': ['WY'], 'Encino': ['WY'], 'Escondido': ['WY'], 'Fair Oaks': ['WY'], 'Fallbrook': ['WY'], 'Florin': ['WY'], 'Folsom': ['WY'], 'Fontana': ['WY'], 'Foothill Farms': ['WY'], 'Foster City': ['WY'], 'Fountain Valley': ['WY'], 'Fullerton': ['WY'], 'Galt': ['WY'], 'Garden Grove': ['WY'], 'Gardena': ['WY'], 'Gilroy': ['WY'], 'Glen Avon': ['WY'], 'Glendora': ['WY'], 'Goleta': ['WY'], 'Granite Bay': ['WY'], 'Hacienda Heights': ['WY'], 'Hanford': ['WY'], 'Hayward': ['WY'], 'Hemet': ['WY'], 'Hercules': ['WY'], 'Hermosa Beach': ['WY'], 'Hesperia': ['WY'], 'Hollister': ['WY'], 'Huntington Beach': ['WY'], 'Huntington Park': ['WY'], 'Imperial': ['WY'], 'Imperial Beach': ['WY'], 'Indio': ['WY'], 'Inglewood': ['WY'], 'Irvine': ['WY'], 'Isla Vista': ['WY'], 'Koreatown': ['WY'], 'La Cañada Flintridge': ['WY'], 'La Habra': ['WY'], 'La Jolla': ['WY'], 'La Mesa': ['WY'], 'La Mirada': ['WY'], 'La Palma': ['WY'], 'La Presa': ['WY'], 'La Puente': ['WY'], 'La Quinta': ['WY'], 'La Verne': ['WY'], 'Ladera Ranch': ['WY'], 'Laguna': ['WY'], 'Laguna Beach': ['WY'], 'Laguna Hills': ['WY'], 'Laguna Niguel': ['WY'], 'Laguna Woods': ['WY'], 'Lake Elsinore': ['WY'], 'Lamont': ['WY'], 'Lathrop': ['WY'], 'Lawndale': ['WY'], 'Lemon Grove': ['WY'], 'Lemoore': ['WY'], 'Lennox': ['WY'], 'Linda': ['WY'], 'Livermore': ['WY'], 'Loma Linda': ['WY'], 'Lomita': ['WY'], 'Lompoc': ['WY'], 'Los Altos': ['WY'], 'Los Angeles': ['WY'], 'Los Banos': ['WY'], 'Los Gatos': ['WY'], 'Lynwood': ['WY'], 'Madera': ['WY'], 'Manhattan Beach': ['WY'], 'Manteca': ['WY'], 'Marina': ['WY'], 'Mead Valley': ['WY'], 'Menifee': ['WY'], 'Menlo Park': ['WY'], 'Merced': ['WY'], 'Millbrae': ['WY'], 'Milpitas': ['WY'], 'Jurupa Valley': ['WY'], 'Mira Mesa': ['WY'], 'Mission District': ['WY'], 'Mission Viejo': ['WY'], 'Modesto': ['WY'], 'Monrovia': ['WY'], 'Montebello': ['WY'], 'Monterey': ['WY'], 'Monterey Park': ['WY'], 'Moorpark': ['WY'], 'Moraga': ['WY'], 'Moreno Valley': ['WY'], 'Morgan Hill': ['WY'], 'Mountain View': ['WY'], 'Murrieta': ['WY'], 'Napa': ['WY'], 'National City': ['WY'], 'Newport Beach': ['WY'], 'Nipomo': ['WY'], 'Norco': ['WY'], 'North Highlands': ['WY'], 'North Hollywood': ['WY'], 'Northridge': ['WY'], 'Novato': ['WY'], 'Oakland': ['WY'], 'Oakley': ['WY'], 'Oildale': ['WY'], 'Ontario': ['WY'], 'Orangevale': ['WY'], 'Orcutt': ['WY'], 'Orinda': ['WY'], 'Oroville': ['WY'], 'Oxnard': ['WY'], 'Pacifica': ['WY'], 'Pacific Grove': ['WY'], 'Palm Desert': ['WY'], 'Palmdale': ['WY'], 'Palo Alto': ['WY'], 'Paradise': ['WY'], 'Paramount': ['WY'], 'Parlier': ['WY'], 'Paso Robles': ['WY'], 'Patterson': ['WY'], 'Perris': ['WY'], 'Petaluma': ['WY'], 'Pico Rivera': ['WY'], 'Pinole': ['WY'], 'Placentia': ['WY'], 'Pleasant Hill': ['WY'], 'Pleasanton': ['WY'], 'Pomona': ['WY'], 'Port Hueneme': ['WY'], 'Porterville': ['WY'], 'Poway': ['WY'], 'Prunedale': ['WY'], 'Ramona': ['WY'], 'Rancho Cordova': ['WY'], 'Rancho Cucamonga': ['WY'], 'Rancho Mirage': ['WY'], 'Rancho Palos Verdes': ['WY'], 'Rancho Penasquitos': ['WY'], 'Rancho San Diego': ['WY'], 'Rancho Santa Margarita': ['WY'], 'Redlands': ['WY'], 'Redondo Beach': ['WY'], 'Redwood City': ['WY'], 'Reedley': ['WY'], 'Rialto': ['WY'], 'Ridgecrest': ['WY'], 'Rio Linda': ['WY'], 'Ripon': ['WY'], 'Riverbank': ['WY'], 'Rocklin': ['WY'], 'Rohnert Park': ['WY'], 'Rosamond': ['WY'], 'Rosemead': ['WY'], 'Rosemont': ['WY'], 'Rowland Heights': ['WY'], 'Rubidoux': ['WY'], 'Sacramento': ['WY'], 'Salinas': ['WY'], 'San Bernardino': ['WY'], 'San Bruno': ['WY'], 'San Carlos': ['WY'], 'San Clemente': ['WY'], 'San Diego': ['WY'], 'San Dimas': ['WY'], 'San Fernando': ['WY'], 'San Francisco': ['WY'], 'San Gabriel': ['WY'], 'San Jacinto': ['WY'], 'San Jose': ['WY'], 'San Juan Capistrano': ['WY'], 'San Leandro': ['WY'], 'San Lorenzo': ['WY'], 'San Luis Obispo': ['WY'], 'San Mateo': ['WY'], 'San Pablo': ['WY'], 'San Pedro': ['WY'], 'San Rafael': ['WY'], 'San Ramon': ['WY'], 'Sanger': ['WY'], 'Santa Ana': ['WY'], 'Santa Barbara': ['WY'], 'Santa Clara': ['WY'], 'Santa Clarita': ['WY'], 'Santa Cruz': ['WY'], 'Santa Fe Springs': ['WY'], 'Santa Maria': ['WY'], 'Santa Monica': ['WY'], 'Santa Paula': ['WY'], 'Santa Rosa': ['WY'], 'Santee': ['WY'], 'Saratoga': ['WY'], 'Seal Beach': ['WY'], 'Seaside': ['WY'], 'North Hills': ['WY'], 'Shafter': ['WY'], 'Sherman Oaks': ['WY'], 'Simi Valley': ['WY'], 'Soledad': ['WY'], 'South El Monte': ['WY'], 'South Lake Tahoe': ['WY'], 'South Pasadena': ['WY'], 'South San Francisco': ['WY'], 'South San Jose Hills': ['WY'], 'South Whittier': ['WY'], 'South Yuba City': ['WY'], 'Stanton': ['WY'], 'Stockton': ['WY'], 'Studio City': ['WY'], 'Suisun': ['WY'], 'Sunland': ['WY'], 'Sunnyvale': ['WY'], 'Temecula': ['WY'], 'Temple City': ['WY'], 'Thousand Oaks': ['WY'], 'Torrance': ['WY'], 'Tracy': ['WY'], 'Truckee': ['WY'], 'Tujunga': ['WY'], 'Tulare': ['WY'], 'Turlock': ['WY'], 'Tustin': ['WY'], 'North Tustin': ['WY'], 'Twentynine Palms': ['WY'], 'Ukiah': ['WY'], 'Upland': ['WY'], 'Vacaville': ['WY'], 'Valencia': ['WY'], 'Valinda': ['WY'], 'Vallejo': ['WY'], 'Van Nuys': ['WY'], 'Ventura': ['WY'], 'Victorville': ['WY'], 'Vincent': ['WY'], 'Visalia': ['WY'], 'Vista': ['WY'], 'Walnut': ['WY'], 'Walnut Creek': ['WY'], 'Walnut Park': ['WY'], 'Watsonville': ['WY'], 'West Carson': ['WY'], 'West Covina': ['WY'], 'West Puente Valley': ['WY'], 'West Sacramento': ['WY'], 'Whittier': ['WY'], 'Wildomar': ['WY'], 'Willowbrook': ['WY'], 'Winter Gardens': ['WY'], 'Woodland': ['WY'], 'Woodland Hills': ['WY'], 'Yorba Linda': ['WY'], 'Yuba City': ['WY'], 'Yucaipa': ['WY'], 'Yucca Valley': ['WY'], 'Arvada': ['WY'], 'Broomfield': ['WY'], 'Cañon City': ['WY'], 'Castle Rock': ['WY'], 'Castlewood': ['WY'], 'Centennial': ['WY'], 'Cimarron Hills': ['WY'], 'Colorado Springs': ['WY'], 'Columbine': ['WY'], 'Commerce City': ['WY'], 'Denver': ['WY'], 'Durango': ['WY'], 'Fountain': ['WY'], 'Golden': ['WY'], 'Grand Junction': ['WY'], 'Greenwood Village': ['WY'], 'Highlands Ranch': ['WY'], 'Ken Caryl': ['WY'], 'Littleton': ['WY'], 'Montrose': ['WY'], 'Northglenn': ['WY'], 'Parker': ['WY'], 'Pueblo': ['WY'], 'Pueblo West': ['WY'], 'Sherrelwood': ['WY'], 'Southglenn': ['WY'], 'Thornton': ['WY'], 'Wheat Ridge': ['WY'], 'Dodge City': ['WY'], 'Liberal': ['WY'], 'Alamogordo': ['WY'], 'Albuquerque': ['WY'], 'Gallup': ['WY'], 'Hobbs': ['WY'], 'Las Cruces': ['WY'], 'Los Lunas': ['WY'], 'Rio Rancho': ['WY'], 'Santa Fe': ['WY'], 'South Valley': ['WY'], 'Sunland Park': ['WY'], 'Boulder City': ['WY'], 'Carson City': ['WY'], 'Fernley': ['WY'], 'Las Vegas': ['WY'], 'North Las Vegas': ['WY'], 'Pahrump': ['WY'], 'Reno': ['WY'], 'Spanish Springs': ['WY'], 'Sparks': ['WY'], 'Sun Valley': ['WY'], 'Sunrise Manor': ['WY'], 'Whitney': ['WY'], 'Amarillo': ['WY'], 'Big Spring': ['WY'], 'Del Rio': ['WY'], 'Dumas': ['WY'], 'Eagle Pass': ['WY'], 'El Paso': ['WY'], 'Hereford': ['WY'], 'Horizon City': ['WY'], 'Lubbock': ['WY'], 'Odessa': ['WY'], 'Pampa': ['WY'], 'San Angelo': ['WY'], 'Socorro': ['WY'], 'Socorro Mission Number 1 Colonia': ['WY'], 'West Odessa': ['WY'], 'Cedar City': ['WY'], 'Hurricane': ['WY'], 'Saint George': ['WY'], 'Anthem': ['WY'], 'Apache Junction': ['WY'], 'Ahwatukee Foothills': ['WY'], 'Juneau': ['WY'], 'Arcata': ['WY'], 'Eureka': ['WY'], 'McKinleyville': ['WY'], 'Redding': ['WY'], 'Susanville': ['WY'], 'Boulder': ['WY'], 'Fort Collins': ['WY'], 'Greeley': ['WY'], 'Longmont': ['WY'], 'Loveland': ['WY'], 'Boise': ['WY'], 'Caldwell': ['WY'], \"Coeur d'Alene\": ['WY'], 'Eagle': ['WY'], 'Idaho Falls': ['WY'], 'Kuna': ['WY'], 'Lewiston Orchards': ['WY'], 'Moscow': ['WY'], 'Nampa': ['WY'], 'Pocatello': ['WY'], 'Post Falls': ['WY'], 'Rexburg': ['WY'], 'Twin Falls': ['WY'], 'Billings': ['WY'], 'Bozeman': ['WY'], 'Butte': ['WY'], 'Kalispell': ['WY'], 'Missoula': ['WY'], 'Bismarck': ['WY'], 'Mandan': ['WY'], 'Minot': ['WY'], 'Williston': ['WY'], 'North Platte': ['WY'], 'Elko': ['WY'], 'Aloha': ['WY'], 'Altamont': ['WY'], 'Beaverton': ['WY'], 'Bend': ['WY'], 'Canby': ['WY'], 'Central Point': ['WY'], 'Coos Bay': ['WY'], 'Corvallis': ['WY'], 'Eugene': ['WY'], 'Forest Grove': ['WY'], 'Four Corners': ['WY'], 'Grants Pass': ['WY'], 'Gresham': ['WY'], 'Happy Valley': ['WY'], 'Hayesville': ['WY'], 'Hermiston': ['WY'], 'Hillsboro': ['WY'], 'Keizer': ['WY'], 'Klamath Falls': ['WY'], 'Lake Oswego': ['WY'], 'Lents': ['WY'], 'McMinnville': ['WY'], 'Milwaukie': ['WY'], 'Newberg': ['WY'], 'Oak Grove': ['WY'], 'Oregon City': ['WY'], 'Pendleton': ['WY'], 'Redmond': ['WY'], 'Roseburg': ['WY'], 'The Dalles': ['WY'], 'Tigard': ['WY'], 'Troutdale': ['WY'], 'Tualatin': ['WY'], 'West Linn': ['WY'], 'Wilsonville': ['WY'], 'Woodburn': ['WY'], 'Rapid City': ['WY'], 'Bountiful': ['WY'], 'Brigham City': ['WY'], 'Clearfield': ['WY'], 'Cottonwood Heights': ['WY'], 'Draper': ['WY'], 'Eagle Mountain': ['WY'], 'East Millcreek': ['WY'], 'Herriman': ['WY'], 'Holladay': ['WY'], 'Kaysville': ['WY'], 'Kearns': ['WY'], 'Layton': ['WY'], 'Lehi': ['WY'], 'Logan': ['WY'], 'Magna': ['WY'], 'Midvale': ['WY'], 'Millcreek': ['WY'], 'North Ogden': ['WY'], 'North Salt Lake': ['WY'], 'Ogden': ['WY'], 'Orem': ['WY'], 'Pleasant Grove': ['WY'], 'Provo': ['WY'], 'Riverton': ['WY'], 'Roy': ['WY'], 'Salt Lake City': ['WY'], 'Sandy': ['WY'], 'Sandy Hills': ['WY'], 'South Jordan Heights': ['WY'], 'South Jordan': ['WY'], 'South Ogden': ['WY'], 'South Salt Lake': ['WY'], 'Spanish Fork': ['WY'], 'Springville': ['WY'], 'Taylorsville': ['WY'], 'Tooele': ['WY'], 'West Jordan': ['WY'], 'West Valley City': ['WY'], 'Anacortes': ['WY'], 'Battle Ground': ['WY'], 'Bellingham': ['WY'], 'Bonney Lake': ['WY'], 'Bothell': ['WY'], 'Bremerton': ['WY'], 'Burien': ['WY'], 'Camas': ['WY'], 'Centralia': ['WY'], 'Cottage Lake': ['WY'], 'Edmonds': ['WY'], 'Ellensburg': ['WY'], 'Fairwood': ['WY'], 'Federal Way': ['WY'], 'Five Corners': ['WY'], 'Frederickson': ['WY'], 'Graham': ['WY'], 'Hazel Dell': ['WY'], 'Issaquah': ['WY'], 'Kennewick': ['WY'], 'Kirkland': ['WY'], 'Lacey': ['WY'], 'Lake Stevens': ['WY'], 'Lynnwood': ['WY'], 'Maple Valley': ['WY'], 'Martha Lake': ['WY'], 'Mercer Island': ['WY'], 'Mill Creek': ['WY'], 'Moses Lake': ['WY'], 'Mountlake Terrace': ['WY'], 'Mukilteo': ['WY'], 'North Creek': ['WY'], 'Oak Harbor': ['WY'], 'Olympia': ['WY'], 'Opportunity': ['WY'], 'Orchards': ['WY'], 'Pasco': ['WY'], 'Port Angeles': ['WY'], 'Pullman': ['WY'], 'Puyallup': ['WY'], 'Renton': ['WY'], 'Richland': ['WY'], 'Salmon Creek': ['WY'], 'Sammamish': ['WY'], 'SeaTac': ['WY'], 'Seattle': ['WY'], 'Shoreline': ['WY'], 'Silverdale': ['WY'], 'South Hill': ['WY'], 'Spanaway': ['WY'], 'Spokane': ['WY'], 'Spokane Valley': ['WY'], 'Tacoma': ['WY'], 'Tukwila': ['WY'], 'Tumwater': ['WY'], 'University Place': ['WY'], 'Vancouver': ['WY'], 'Walla Walla': ['WY'], 'Washougal': ['WY'], 'Wenatchee': ['WY'], 'West Lake Sammamish': ['WY'], 'West Lake Stevens': ['WY'], 'Bainbridge Island': ['WY'], 'Yakima': ['WY'], 'Casper': ['WY'], 'Cheyenne': ['WY'], 'Gillette': ['WY'], 'Laramie': ['WY'], 'Rock Springs': ['WY'], 'Sheridan': ['WY'], 'American Fork': ['WY'], 'Kahului': ['WY'], 'Kailua': ['WY'], 'Kaneohe': ['WY'], 'Kīhei': ['WY'], 'Makakilo City': ['WY'], 'Mililani Town': ['WY'], 'Pearl City': ['WY'], 'Wahiawā': ['WY'], 'Wailuku': ['WY'], 'Waipahu': ['WY'], '‘Ewa Gentry': ['WY'], 'Hilo': ['WY'], 'Honolulu': ['WY'], 'Eagle River': ['WY'], 'Fairbanks': ['WY'], 'Anchorage': ['WY'], 'Badger': ['WY'], 'Johns Creek': ['WY'], 'Cutler Bay': ['WY'], 'Morningside Heights': ['WY'], 'East Harlem': ['WY'], 'Alafaya': ['WY'], 'Millburn': ['WY'], 'Briarwood': ['WY'], 'Stevenson Ranch': ['WY'], 'Fort Bragg': ['WY'], 'Kapolei': ['WY'], 'City of Milford (balance)': ['WY'], 'City of Sammamish': ['WY'], 'Silver Firs': ['WY'], 'Vineyard': ['WY'], 'Gramercy Park': ['WY'], 'Kew Gardens Hills': ['WY'], 'Wallingford Center': ['WY'], 'Braintree': ['WY'], 'North Attleborough Center': ['WY'], 'Bel Air North': ['WY'], 'Bel Air South': ['WY'], 'Mercerville-Hamilton Square': ['WY'], 'Oxon Hill-Glassmanor': ['WY'], 'Gates-North Gates': ['WY'], 'Greater Upper Marlboro': ['WY'], 'West Falls Church': ['WY'], 'Lanham-Seabrook': ['WY'], 'Lutherville-Timonium': ['WY'], 'Setauket-East Setauket': ['WY'], 'Suitland-Silver Hill': ['WY'], 'Fort Leonard Wood': ['WY'], 'Saginaw Township North': ['WY'], 'West Bloomfield Township': ['WY'], 'East Lake-Orient Park': ['WY'], 'Greater Northdale': ['WY'], 'Candler-McAfee': ['WY'], 'Sandalfoot Cove': ['WY'], 'University': ['WY'], 'Vero Beach South': ['WY'], 'Kendall West': ['WY'], 'Palm River-Clair Mel': ['WY'], 'Arden-Arcade': ['WY'], 'Bryn Mawr-Skyway': ['WY'], 'Casa de Oro-Mount Helix': ['WY'], 'Florence-Graham': ['WY'], 'Fort Hood': ['WY'], 'Inglewood-Finn Hill': ['WY'], 'La Crescenta-Montrose': ['WY'], 'East Hill-Meridian': ['WY'], 'Picnic Point-North Lynnwood': ['WY'], 'Security-Widefield': ['WY'], 'Union Hill-Novelty Hill': ['WY'], 'West Whittier-Los Nietos': ['WY'], 'Summerlin South': ['WY'], 'Makakilo': ['WY'], 'Schofield Barracks': ['WY'], 'Tri-Cities': ['WY'], 'San Tan Valley': ['WY'], 'Midway': ['WY'], 'Oakleaf Plantation': ['WY'], 'East Honolulu': ['WY'], 'Old Jamestown': ['WY'], 'Bothell West': ['WY'], 'Eastmont': ['WY'], 'Mill Creek East': ['WY'], 'Enchanted Hills': ['WY'], 'West Hills': ['WY'], 'Detroit-Shoreway': ['WY'], 'Clark-Fulton': ['WY'], 'The Acreage': ['WY'], 'Eastvale': ['WY'], 'Oak Hill': ['WY'], 'Bridgewater': ['WY'], 'Warren Township': ['WY'], 'Fairfield Heights': ['WY'], 'Chicago Loop': ['WY'], 'Greater Grand Crossing': ['WY'], 'Auburn Gresham': ['WY'], 'Financial District': ['WY'], 'Sunset Park': ['WY'], 'South Kingstown': ['WY'], 'Noe Valley': ['WY'], 'Visitacion Valley': ['WY'], 'Northdale': ['WY'], 'Meadowbrook': ['WY'], 'Hot Springs National Park': ['WY'], 'Dixiana': ['WY'], 'Cranberry Township': ['WY'], 'Center City': ['WY'], 'Silver Lake': ['WY'], 'Echo Park': ['WY'], 'St. Johns': ['WY'], 'Stonecrest': ['WY'], 'Cortlandt Manor': ['WY'], 'Valley Glen': ['WY'], 'Encanto': ['WY'], 'Central City': ['WY']}\n"
     ]
    }
   ],
   "source": []
  },
  {
   "cell_type": "code",
   "execution_count": 283,
   "metadata": {},
   "outputs": [],
   "source": [
    "#Initialize new column with ANSI standard state name\n",
    "df_sub[\"STATE_ABBR\"] = None"
   ]
  },
  {
   "cell_type": "code",
   "execution_count": 301,
   "metadata": {},
   "outputs": [
    {
     "name": "stderr",
     "output_type": "stream",
     "text": [
      "C:\\Users\\anqscl\\AppData\\Local\\Temp\\ipykernel_9240\\1772196825.py:8: FutureWarning: A value is trying to be set on a copy of a DataFrame or Series through chained assignment using an inplace method.\n",
      "The behavior will change in pandas 3.0. This inplace method will never work because the intermediate object on which we are setting values always behaves as a copy.\n",
      "\n",
      "For example, when doing 'df[col].method(value, inplace=True)', try using 'df.method({col: value}, inplace=True)' or df[col] = df[col].method(value) instead, to perform the operation inplace on the original object.\n",
      "\n",
      "\n",
      "  df_sub[\"STATE_ABBR\"].fillna(\"Unkown\", inplace=True)\n"
     ]
    }
   ],
   "source": [
    "# Map city to state for non-available region\n",
    "df_sub.loc[df_sub[\"CITY\"] != 'NaN', \"STATE_ABBR\"] = df_sub[\"CITY\"].apply(get_state_for_city)\n",
    "\n",
    "#Map existing state abbreviations for othr agencies\n",
    "df_sub.loc[df_sub[\"REGION\"] != 'NaN', \"STATE_ABBR\"] = df_sub[\"REGION\"]\n",
    "\n",
    "#Handle\n",
    "df_sub[\"STATE_ABBR\"].fillna(\"Unkown\", inplace=True)\n"
   ]
  },
  {
   "cell_type": "code",
   "execution_count": 307,
   "metadata": {},
   "outputs": [
    {
     "name": "stdout",
     "output_type": "stream",
     "text": [
      "50    NaN\n",
      "51    NaN\n",
      "52    NaN\n",
      "53    NaN\n",
      "54    NaN\n",
      "55    NaN\n",
      "56    NaN\n",
      "57    NaN\n",
      "58    NaN\n",
      "59    NaN\n",
      "Name: CITY, dtype: category\n",
      "Categories (198, object): ['Abilene', 'Alexandria', 'Allen', 'Allentown', ..., 'Wichita Falls', 'Woodbridge', 'Worcester', 'Yonkers']\n"
     ]
    }
   ],
   "source": [
    "print(df_sub[\"CITY\"].iloc[50:60])"
   ]
  },
  {
   "cell_type": "code",
   "execution_count": 308,
   "metadata": {},
   "outputs": [
    {
     "name": "stdout",
     "output_type": "stream",
     "text": [
      "50    TX\n",
      "51    AK\n",
      "52    AK\n",
      "53    LA\n",
      "54    LA\n",
      "55    ND\n",
      "56    NC\n",
      "57    LA\n",
      "58    ND\n",
      "59    ND\n",
      "Name: STATE_ABBR, dtype: object\n"
     ]
    }
   ],
   "source": [
    "print(df_sub[\"STATE_ABBR\"].iloc[50:60])"
   ]
  }
 ],
 "metadata": {
  "kernelspec": {
   "display_name": "Python 3",
   "language": "python",
   "name": "python3"
  },
  "language_info": {
   "codemirror_mode": {
    "name": "ipython",
    "version": 3
   },
   "file_extension": ".py",
   "mimetype": "text/x-python",
   "name": "python",
   "nbconvert_exporter": "python",
   "pygments_lexer": "ipython3",
   "version": "3.11.4"
  },
  "orig_nbformat": 4
 },
 "nbformat": 4,
 "nbformat_minor": 2
}
